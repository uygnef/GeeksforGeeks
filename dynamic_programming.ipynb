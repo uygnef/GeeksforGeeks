{
 "cells": [
  {
   "cell_type": "markdown",
   "metadata": {},
   "source": [
    "# dynamic Programming\n",
    "## Basic concepts\n",
    "    http://www.geeksforgeeks.org/dynamic-programming/\n",
    "## Basic programming problem\n",
    "- Program for Fibonacci numbers"
   ]
  },
  {
   "cell_type": "code",
   "execution_count": 8,
   "metadata": {},
   "outputs": [
    {
     "name": "stdout",
     "output_type": "stream",
     "text": [
      "34\n"
     ]
    }
   ],
   "source": [
    "#only use recursion(start with 0..fib(0) = 0, fib(1) = 0+1 ...) \n",
    "def fib(num):\n",
    "    if num < 3:\n",
    "        return num\n",
    "    return fib(num-1) + fib(num-2)\n",
    "print(fib(8))"
   ]
  },
  {
   "cell_type": "code",
   "execution_count": 15,
   "metadata": {},
   "outputs": [
    {
     "name": "stdout",
     "output_type": "stream",
     "text": [
      "34\n"
     ]
    }
   ],
   "source": [
    "#recursion with cache\n",
    "def fib(num):\n",
    "    num -= 1\n",
    "    global cache\n",
    "    cache = [None for _ in range(num + 1)]\n",
    "    \n",
    "    def _fib(num):\n",
    "        if num < 3:\n",
    "            return num\n",
    "        global cache\n",
    "        if cache[num]:\n",
    "            return cache[num]\n",
    "        result = _fib(num - 1) + _fib(num - 2)\n",
    "        cache[num] = result\n",
    "        return result\n",
    "    return _fib(num)\n",
    "print(fib(9))    "
   ]
  },
  {
   "cell_type": "code",
   "execution_count": 16,
   "metadata": {},
   "outputs": [
    {
     "name": "stdout",
     "output_type": "stream",
     "text": [
      "34\n"
     ]
    }
   ],
   "source": [
    "#dp\n",
    "def fib(num):\n",
    "    fib = [0, 1, 2]\n",
    "    for i in range(3, num):\n",
    "        fib.append(fib[i-1] + fib[i-2])\n",
    "    return fib[-1]\n",
    "print(fib(9))"
   ]
  },
  {
   "cell_type": "code",
   "execution_count": 17,
   "metadata": {},
   "outputs": [
    {
     "name": "stdout",
     "output_type": "stream",
     "text": [
      "34\n"
     ]
    }
   ],
   "source": [
    "#optimized memory space\n",
    "def fib(num):\n",
    "    a = 0\n",
    "    b = 1\n",
    "    c = a + b\n",
    "    for i in range(2, num):\n",
    "        a = b\n",
    "        b = c\n",
    "        c = a + b\n",
    "    return c\n",
    "\n",
    "print(fib(9))"
   ]
  },
  {
   "cell_type": "markdown",
   "metadata": {},
   "source": [
    "## Binomial Coefficient\n",
    "Following are common definition of Binomial Coefficients.\n",
    "- A binomial coefficient C(n, k) can be defined as the coefficient of X^k in the expansion of (1 + X)^n.\n",
    "- A binomial coefficient C(n, k) also gives the number of ways, disregarding order, that k objects can be chosen from among n objects; more formally, the number of k-element subsets (or k-combinations) of an n-element set.\n",
    "### The problem\n",
    "Write a function that takes two parameters n and k and returns the value of Binomial Coefficient C(n, k). For example, your function should return 6 for n = 4 and k = 2, and it should return 10 for n = 5 and k = 2."
   ]
  },
  {
   "cell_type": "code",
   "execution_count": 20,
   "metadata": {},
   "outputs": [
    {
     "name": "stdout",
     "output_type": "stream",
     "text": [
      "10.0\n"
     ]
    }
   ],
   "source": [
    "#recurision\n",
    "def bin_coefficient(n, k):\n",
    "    fac = [None for _ in range(n + 1)]\n",
    "    \n",
    "    def _love(n):\n",
    "        if n < 3:\n",
    "            return n\n",
    "        if fac[n]:\n",
    "            return fac[n]\n",
    "        fac[n] = _love(n-1) * n\n",
    "        return fac[n]\n",
    "    \n",
    "    return _love(n)/_love(k) / _love(n-k)\n",
    "print(bin_coefficient(5, 2))"
   ]
  },
  {
   "cell_type": "markdown",
   "metadata": {},
   "source": [
    "The value of C(n, k) can be recursively calculated using following standard formula for Binomial Coefficients.\n",
    "\n",
    "     C(n, k) = C(n-1, k-1) + C(n-1, k)\n",
    "     C(n, 0) = C(n, n) = 1\n",
    "\n",
    "    "
   ]
  },
  {
   "cell_type": "code",
   "execution_count": 26,
   "metadata": {},
   "outputs": [
    {
     "name": "stdout",
     "output_type": "stream",
     "text": [
      "10 call:  19\n"
     ]
    }
   ],
   "source": [
    "#dummy version without cache\n",
    "global call_count\n",
    "call_count = 0\n",
    "def bin_coefficient(n, k):\n",
    "    global call_count\n",
    "    call_count += 1\n",
    "    if(n == k):\n",
    "        return 1\n",
    "    if(k == 0):\n",
    "        return 1\n",
    "    return bin_coefficient(n-1, k-1) + bin_coefficient(n-1, k)\n",
    "print(bin_coefficient(5, 2), \" call:\",call_count)"
   ]
  },
  {
   "cell_type": "code",
   "execution_count": 32,
   "metadata": {},
   "outputs": [
    {
     "name": "stdout",
     "output_type": "stream",
     "text": [
      "10 11\n"
     ]
    }
   ],
   "source": [
    "#add cache\n",
    "global cache\n",
    "global count\n",
    "count = 0\n",
    "def bin_coefficient(n, k):\n",
    "    cache = [[None for _ in range(k+1)] for _ in range(n+1)]\n",
    "    def _xql(n, k):\n",
    "        global count\n",
    "        count += 1\n",
    "        if(n == k):\n",
    "            return 1\n",
    "        if(k == 0):\n",
    "            return 1\n",
    "        if not cache[n-1][k-1]:\n",
    "            cache[n-1][k-1] = _xql(n-1, k-1)\n",
    "        if not cache[n - 1][k]:\n",
    "            cache[n - 1][k] = _xql(n-1, k)\n",
    "        return cache[n-1][k-1]+cache[n - 1][k] \n",
    "    return _xql(n, k)\n",
    "print(bin_coefficient(5, 2), count)"
   ]
  },
  {
   "cell_type": "markdown",
   "metadata": {},
   "source": [
    "## Longest Common Subsequence\n",
    "We have discussed Overlapping Subproblems and Optimal Substructure properties in Set 1 and Set 2 respectively. We also discussed one example problem in Set 3. Let us discuss Longest Common Subsequence (LCS) problem as one more example problem that can be solved using Dynamic Programming.\n",
    "\n",
    "LCS Problem Statement: Given two sequences, find the length of longest subsequence present in both of them. A subsequence is a sequence that appears in the same relative order, but not necessarily contiguous. For example, “abc”, “abg”, “bdf”, “aeg”, ‘”acefg”, .. etc are subsequences of “abcdefg”. So a string of length n has 2^n different possible subsequences.\n",
    "\n",
    "It is a classic computer science problem, the basis of diff (a file comparison program that outputs the differences between two files), and has applications in bioinformatics.\n",
    "\n",
    "**Examples:**\n",
    "LCS for input Sequences “ABCDGH” and “AEDFHR” is “ADH” of length 3.\n",
    "LCS for input Sequences “AGGTAB” and “GXTXAYB” is “GTAB” of length 4."
   ]
  },
  {
   "cell_type": "code",
   "execution_count": 61,
   "metadata": {},
   "outputs": [
    {
     "name": "stdout",
     "output_type": "stream",
     "text": [
      "[[0, 0, 0, 0, 0, 0, 0, 0], [0, 0, 0, 0, 0, 1, 1, 1], [0, 1, 1, 1, 1, 1, 1, 1], [0, 1, 1, 1, 1, 1, 1, 1], [0, 1, 1, 2, 2, 2, 2, 2], [0, 1, 1, 2, 2, 3, 3, 3], [0, 1, 1, 2, 2, 3, 3, 4]]\n",
      "4\n"
     ]
    }
   ],
   "source": [
    "global a\n",
    "global b\n",
    "a = \"AGGTAB\"\n",
    "b = \"GXTXAYB\"\n",
    "def lcs():\n",
    "    a_len = len(a)\n",
    "    b_len = len(b)\n",
    "    global cache \n",
    "    cache = [[None for _ in range(b_len+1)] for _ in range(a_len+1)]\n",
    "    \n",
    "    for i in range(a_len+1):\n",
    "        for j in range(b_len+1):\n",
    "            if i==0 or j == 0:\n",
    "                cache[i][j] = 0\n",
    "            else:\n",
    "                if a[i-1] == b[j-1]:\n",
    "                    cache[i][j] = cache[i-1][j-1] + 1\n",
    "                else:\n",
    "                    cache[i][j] = max(cache[i-1][j], cache[i][j-1])\n",
    "    print(cache)\n",
    "    return cache[-1][-1]\n",
    "        \n",
    "print(lcs())"
   ]
  },
  {
   "attachments": {
    "image.png": {
     "image/png": "[encoded data removed]"
    }
   },
   "cell_type": "markdown",
   "metadata": {},
   "source": [
    "## Largest Sum Contiguous Subarray\n",
    "Write an efficient C program to find the sum of contiguous subarray within a one-dimensional array of numbers which has the largest sum.\n",
    "![image.png](attachment:image.png)"
   ]
  },
  {
   "cell_type": "markdown",
   "metadata": {},
   "source": [
    "max so far\n",
    "max ending here\n",
    "\n",
    "max so far -----\n",
    "if max ending here < 0:\n",
    "    max ending here = 0\n",
    "else\n",
    "    max ending here += i\n",
    "if max so far < max ending here:\n",
    "    max so far = max ending here"
   ]
  },
  {
   "cell_type": "code",
   "execution_count": 64,
   "metadata": {},
   "outputs": [
    {
     "name": "stdout",
     "output_type": "stream",
     "text": [
      "7\n"
     ]
    }
   ],
   "source": [
    "def max_substring(string):\n",
    "    if not string:\n",
    "        return None\n",
    "    if len(string) == 1:\n",
    "        return string[0]\n",
    "    max_so_far = string[0]\n",
    "    max_ending_here = string[0]\n",
    "    for i in string[1:]:\n",
    "        if max_ending_here + i <= 0:\n",
    "            max_ending_here = 0\n",
    "        else:\n",
    "            max_ending_here += i\n",
    "        if max_ending_here > max_so_far:\n",
    "            max_so_far = max_ending_here\n",
    "    return max_so_far\n",
    "\n",
    "a = [4,-1, -2, 1, 5]\n",
    "print(max_substring(a))"
   ]
  },
  {
   "cell_type": "markdown",
   "metadata": {},
   "source": [
    "## Ugly Numbers\n",
    "Ugly numbers are numbers whose only prime factors are 2, 3 or 5. The sequence 1, 2, 3, 4, 5, 6, 8, 9, 10, 12, 15, … shows the first 11 ugly numbers. By convention, 1 is included.\n",
    "\n",
    "Given a number n, the task is to find n’th Ugly number.\n",
    "\n",
    "Input  : n = 7\n",
    "Output : 8\n",
    "\n",
    "Input  : n = 10\n",
    "Output : 12\n",
    "\n",
    "Input  : n = 15\n",
    "Output : 24\n",
    "\n",
    "Input  : n = 150\n",
    "Output : 5832"
   ]
  },
  {
   "cell_type": "code",
   "execution_count": null,
   "metadata": {
    "collapsed": true
   },
   "outputs": [],
   "source": [
    "#dummy solution: compute all legall \n",
    "def cal(n):\n",
    "    i = 5\n",
    "    p = 5\n",
    "    list = [2, 3, 4, 5]\n",
    "    if n < 5:\n",
    "        return list[n-1]\n",
    "    \n",
    "    while(i < n):\n",
    "        p += 1\n",
    "        if((p / 2) in list):\n",
    "            list.append(p)\n",
    "            i += 1\n",
    "            continue\n",
    "        if((p / 3) in list):\n",
    "            list.append(p)\n",
    "            i += 1\n",
    "            continue\n",
    "            \n",
    "        if((p / 5) in list):\n",
    "            list.append(p)\n",
    "            i += 1 \n",
    "            continue\n",
    "    print(list)\n",
    "    return p\n",
    "\n",
    "print(cal(150))"
   ]
  },
  {
   "cell_type": "markdown",
   "metadata": {},
   "source": [
    "### Method 2 (Use Dynamic Programming)\n",
    "\n",
    "Here is a time efficient solution with O(n) extra space. The ugly-number sequence is 1, 2, 3, 4, 5, 6, 8, 9, 10, 12, 15, …\n",
    "     because every number can only be divided by 2, 3, 5, one way to look at the sequence is to split the sequence to three groups as below:\n",
    "     - 1×2, 2×2, 3×2, 4×2, 5×2, …\n",
    "     - 1×3, 2×3, 3×3, 4×3, 5×3, …\n",
    "     - 1×5, 2×5, 3×5, 4×5, 5×5, …\n",
    "    \n",
    "We can find that every subsequence is the ugly-sequence itself (1, 2, 3, 4, 5, …) multiply 2, 3, 5. Then we use similar merge method as merge sort, to get every ugly number from the three subsequence. Every step we choose the smallest one, and move one step after."
   ]
  },
  {
   "cell_type": "raw",
   "metadata": {},
   "source": [
    "1 Declare an array for ugly numbers:  ugly[n]\n",
    "2 Initialize first ugly no:  ugly[0] = 1\n",
    "3 Initialize three array index variables i2, i3, i5 to point to \n",
    "   1st element of the ugly array: \n",
    "        i2 = i3 = i5 =0; \n",
    "4 Initialize 3 choices for the next ugly no:\n",
    "         next_mulitple_of_2 = ugly[i2]*2;\n",
    "         next_mulitple_of_3 = ugly[i3]*3\n",
    "         next_mulitple_of_5 = ugly[i5]*5;\n",
    "5 Now go in a loop to fill all ugly numbers till 150:\n",
    "For (i = 1; i < 150; i++ ) \n",
    "{\n",
    "    /* These small steps are not optimized for good \n",
    "      readability. Will optimize them in C program */\n",
    "    next_ugly_no  = Min(next_mulitple_of_2,\n",
    "                        next_mulitple_of_3,\n",
    "                        next_mulitple_of_5); \n",
    "    if (next_ugly_no  == next_mulitple_of_2) \n",
    "    {             \n",
    "        i2 = i2 + 1;        \n",
    "        next_mulitple_of_2 = ugly[i2]*2;\n",
    "    } \n",
    "    if (next_ugly_no  == next_mulitple_of_3) \n",
    "    {             \n",
    "        i3 = i3 + 1;        \n",
    "        next_mulitple_of_3 = ugly[i3]*3;\n",
    "     }            \n",
    "     if (next_ugly_no  == next_mulitple_of_5)\n",
    "     {    \n",
    "        i5 = i5 + 1;        \n",
    "        next_mulitple_of_5 = ugly[i5]*5;\n",
    "     } \n",
    "     ugly[i] =  next_ugly_no       \n",
    "}/* end of for loop */ \n",
    "6.return next_ugly_no"
   ]
  },
  {
   "cell_type": "code",
   "execution_count": null,
   "metadata": {
    "collapsed": true
   },
   "outputs": [],
   "source": [
    "#dp\n",
    "def cal(n):\n",
    "    list_2 = [2]\n",
    "    list_3 = [3]\n",
    "    list_5 = [5]\n",
    "    i = 4\n",
    "    for "
   ]
  },
  {
   "attachments": {
    "image.png": {
     "image/png": "[encoded data removed]"
    }
   },
   "cell_type": "markdown",
   "metadata": {},
   "source": [
    "## Maximum size square sub-matrix with all 1s\n",
    "Given a binary matrix, find out the maximum size square sub-matrix with all 1s.\n",
    "\n",
    "For example, consider the below binary matrix.\n",
    "![image.png](attachment:image.png)"
   ]
  },
  {
   "cell_type": "markdown",
   "metadata": {
    "collapsed": true
   },
   "source": [
    "Algorithm:\n",
    "Let the given binary matrix be M[R][C]. The idea of the algorithm is to construct an auxiliary size matrix S[][] in which each entry S[i][j] represents size of the square sub-matrix with all 1s including M[i][j] where M[i][j] is the rightmost and bottommost entry in sub-matrix.\n",
    "\n",
    "- Construct a sum matrix S[R][C] for the given M[R][C].\n",
    "     a)\tCopy first row and first columns as it is from M[][] to S[][]\n",
    "     b)\tFor other entries, use following expressions to construct S[][]\n",
    "         If M[i][j] is 1 then\n",
    "            S[i][j] = min(S[i][j-1], S[i-1][j], S[i-1][j-1]) + 1\n",
    "         Else /*If M[i][j] is 0*/\n",
    "            S[i][j] = 0\n",
    "- Find the maximum entry in S[R][C]\n",
    "- Using the value and coordinates of maximum entry in S[i], print \n",
    "   sub-matrix of M[][]\n",
    "For the given M[R][C] in above example, constructed S[R][C] would be:\n",
    "\n",
    "   0  1  1  0  1\n",
    "   \n",
    "   1  1  0  1  0\n",
    "   \n",
    "   0  1  1  1  0\n",
    "   \n",
    "   1  1  2  2  0\n",
    "   \n",
    "   1  2  2  3  1\n",
    "   \n",
    "   0  0  0  0  0"
   ]
  },
  {
   "cell_type": "code",
   "execution_count": 14,
   "metadata": {
    "collapsed": true
   },
   "outputs": [],
   "source": [
    "matrix =          [[0, 1, 1, 0, 1], \n",
    "                   [1, 1, 0, 1, 0], \n",
    "                   [0, 1, 1, 1, 0],\n",
    "                   [1, 1, 1, 1, 0],\n",
    "                   [1, 1, 1, 1, 1],\n",
    "                   [0, 0, 0, 0, 0]]"
   ]
  },
  {
   "cell_type": "code",
   "execution_count": 27,
   "metadata": {},
   "outputs": [
    {
     "name": "stdout",
     "output_type": "stream",
     "text": [
      "(array([4]), array([3])) 3.0\n"
     ]
    }
   ],
   "source": [
    "import numpy as np\n",
    "def sub_maxtrix(matrix):\n",
    "    matrix_len = len(matrix)\n",
    "    cache = np.zeros((matrix_len+1, matrix_len+1))\n",
    "    \n",
    "    for i in range(1, len(matrix)):\n",
    "        for j in range(1, len(matrix[i])):\n",
    "            if matrix[i][j] == 1:\n",
    "                cache[i][j] = min(cache[i][j-1], cache[i-1][j-1], cache[i-1][j]) + 1\n",
    "            else:\n",
    "                cache[i][j] = 0\n",
    "    max_num = np.max(cache)\n",
    "    return np.where(cache == max_num), max_num\n",
    "a, b = sub_maxtrix(matrix)        \n",
    "print(a, b)    "
   ]
  },
  {
   "attachments": {
    "image.png": {
     "image/png": "[encoded data removed]"
    }
   },
   "cell_type": "markdown",
   "metadata": {},
   "source": [
    "## Dynamic Programming | Set 3 (Longest Increasing Subsequence)\n",
    "We have discussed Overlapping Subproblems and Optimal Substructure properties.\n",
    "\n",
    "Let us discuss Longest Increasing Subsequence (LIS) problem as an example problem that can be solved using Dynamic Programming.\n",
    "The Longest Increasing Subsequence (LIS) problem is to find the length of the longest subsequence of a given sequence such that all elements of the subsequence are sorted in increasing order. For example, the length of LIS for {10, 22, 9, 33, 21, 50, 41, 60, 80} is 6 and LIS is {10, 22, 33, 50, 60, 80}.\n",
    "![image.png](attachment:image.png)\n",
    "Input  : arr[] = {3, 10, 2, 1, 20}\n",
    "Output : Length of LIS = 3\n",
    "The longest increasing subsequence is 3, 10, 20\n",
    "\n",
    "Input  : arr[] = {3, 2}\n",
    "Output : Length of LIS = 1\n",
    "The longest increasing subsequences are {3} and {2}\n",
    "\n",
    "Input : arr[] = {50, 3, 10, 7, 40, 80}\n",
    "Output : Length of LIS = 4\n",
    "The longest increasing subsequence is {3, 7, 40, 80}"
   ]
  },
  {
   "cell_type": "code",
   "execution_count": 37,
   "metadata": {},
   "outputs": [
    {
     "name": "stdout",
     "output_type": "stream",
     "text": [
      "[[], [3], [], [], [3, 10], []]\n",
      "3\n"
     ]
    }
   ],
   "source": [
    "#naive approach\n",
    "def lis(array):\n",
    "    a_len = len(array)\n",
    "    cache = [1 for _ in range(a_len + 1)]\n",
    "    trace = [[] for _ in range(a_len + 1)]\n",
    "    for i, value in enumerate(array):\n",
    "        for j, pre_value in enumerate(array[:i]):\n",
    "            if value > pre_value:\n",
    "                if(cache[i] < cache[j] + 1):\n",
    "                    trace[i].append(pre_value)\n",
    "                    cache[i] = cache[j] + 1\n",
    "    max_len = max(cache)\n",
    "    print(trace)\n",
    "    return max_len\n",
    "print(lis([3, 10, 2, 1, 20]))"
   ]
  },
  {
   "attachments": {
    "image.png": {
     "image/png": "[encoded data removed]"
    }
   },
   "cell_type": "markdown",
   "metadata": {
    "collapsed": true
   },
   "source": [
    "## Dynamic Programming | Set 6 (Min Cost Path)\n",
    "Given a cost matrix cost[ ][ ] and a position (m, n) in cost[ ][ ], write a function that returns cost of minimum cost path to reach (m, n) from (0, 0). Each cell of the matrix represents a cost to traverse through that cell. Total cost of a path to reach (m, n) is sum of all the costs on that path (including both source and destination). You can only traverse down, right and diagonally lower cells from a given cell, i.e., from a given cell (i, j), cells (i+1, j), (i, j+1) and (i+1, j+1) can be traversed. You may assume that all costs are positive integers.\n",
    "For example, in the following figure, what is the minimum cost path to (2, 2)?\n",
    "![image.png](attachment:image.png)\n",
    "The path with minimum cost is highlighted in the following figure. The path is (0, 0) –> (0, 1) –> (1, 2) –> (2, 2). The cost of the path is 8 (1 + 2 + 2 + 3).\n",
    "![image.png](attachment:image.png)\n",
    "Recommended: Please solve it on “PRACTICE” first, before moving on to the solution.\n",
    "\n"
   ]
  },
  {
   "cell_type": "code",
   "execution_count": 9,
   "metadata": {},
   "outputs": [
    {
     "name": "stdout",
     "output_type": "stream",
     "text": [
      "[[  1.   3.   6.]\n",
      " [  5.   9.   5.]\n",
      " [  6.  10.   8.]]\n"
     ]
    },
    {
     "data": {
      "text/plain": [
       "8.0"
      ]
     },
     "execution_count": 9,
     "metadata": {},
     "output_type": "execute_result"
    }
   ],
   "source": [
    "import numpy  as np\n",
    "def lowest_cost(cost_map, m, n):\n",
    "    x = len(cost_map)\n",
    "    y = len(cost_map[0])\n",
    "    \n",
    "    #init cache\n",
    "    cache = np.zeros((x, y))\n",
    "    temp = 0\n",
    "    cache[0][0] = cost_map[0][0]\n",
    "    \n",
    "    for i, value in enumerate(cost_map[0]):\n",
    "        temp += value\n",
    "        cache[0][i] = temp\n",
    "    temp = 0\n",
    "    for j, value in enumerate(cost_map):\n",
    "        temp += value[0]\n",
    "        cache[j][0] = temp\n",
    "    \n",
    "    for i in range(1, x):\n",
    "        for j in range(1, y):\n",
    "            cache[i][j] = min(cache[i][j-1], cache[i-1][j], cache[i-1][j-1]) + cost_map[i][j]\n",
    "    print(cache)\n",
    "    return cache[m][n]\n",
    "b =  [ [1, 2, 3],\n",
    "                      [4, 8, 2],\n",
    "                      [1, 5, 3] ]\n",
    "\n",
    "\n",
    "lowest_cost(b, 2 ,2 )"
   ]
  },
  {
   "cell_type": "markdown",
   "metadata": {
    "collapsed": true
   },
   "source": [
    "## Dynamic Programming | Set 7 (Coin Change)\n",
    "Given a value N, if we want to make change for N cents, and we have infinite supply of each of S = { S1, S2, .. , Sm} valued coins, how many ways can we make the change? The order of coins doesn’t matter.\n",
    "\n",
    "For example, for N = 4 and S = {1,2,3}, there are four solutions: {1,1,1,1},{1,1,2},{2,2},{1,3}. So output should be 4. For N = 10 and S = {2, 5, 3, 6}, there are five solutions: {2,2,2,2,2}, {2,2,3,3}, {2,2,6}, {2,3,5} and {5,5}. So the output should be 5."
   ]
  },
  {
   "cell_type": "code",
   "execution_count": 2,
   "metadata": {},
   "outputs": [
    {
     "name": "stdout",
     "output_type": "stream",
     "text": [
      "[[5], [2, 3]]\n"
     ]
    }
   ],
   "source": [
    "#dumy approach\n",
    "def coin_change(cents):\n",
    "    coin_type = [2, 5, 3, 6]\n",
    "    num_of_coin = cents // min(coin_type)\n",
    "    cache = [[] for _ in range(num_of_coin)]\n",
    "    cache[0] = [[2], [5], [3], [6]]\n",
    "    ret = []\n",
    "    if cents in coin_type:\n",
    "        ret.append([cents])\n",
    "    for i in range(1, num_of_coin):\n",
    "        for pre_list in cache[i-1:]:\n",
    "            for pre_value in pre_list:\n",
    "                for coin_value in coin_type:\n",
    "                    temp = sorted(pre_value + [coin_value])\n",
    "                    if(sum(temp) < cents):\n",
    "                        if temp not in cache[i]:\n",
    "                            cache[i].append(temp)\n",
    "                    elif (sum(temp) == cents):\n",
    "                        if temp not in ret:\n",
    "                            ret.append(temp)\n",
    "    return ret\n",
    "\n",
    "print(coin_change(5))"
   ]
  },
  {
   "cell_type": "code",
   "execution_count": 25,
   "metadata": {},
   "outputs": [
    {
     "name": "stdout",
     "output_type": "stream",
     "text": [
      "[[0, 2, 0, 15], [0, 2, 2, 14], [0, 2, 4, 13], [0, 2, 6, 12], [0, 2, 8, 11], [0, 2, 10, 10], [0, 2, 12, 9], [0, 2, 14, 8], [0, 2, 16, 7], [0, 2, 18, 6], [0, 2, 20, 5], [0, 2, 22, 4], [0, 2, 24, 3], [0, 2, 26, 2], [0, 2, 28, 1], [0, 2, 30, 0], [0, 5, 1, 12], [0, 5, 3, 11], [0, 5, 5, 10], [0, 5, 7, 9], [0, 5, 9, 8], [0, 5, 11, 7], [0, 5, 13, 6], [0, 5, 15, 5], [0, 5, 17, 4], [0, 5, 19, 3], [0, 5, 21, 2], [0, 5, 23, 1], [0, 5, 25, 0], [0, 8, 0, 10], [0, 8, 2, 9], [0, 8, 4, 8], [0, 8, 6, 7], [0, 8, 8, 6], [0, 8, 10, 5], [0, 8, 12, 4], [0, 8, 14, 3], [0, 8, 16, 2], [0, 8, 18, 1], [0, 8, 20, 0], [0, 11, 1, 7], [0, 11, 3, 6], [0, 11, 5, 5], [0, 11, 7, 4], [0, 11, 9, 3], [0, 11, 11, 2], [0, 11, 13, 1], [0, 11, 15, 0], [0, 14, 0, 5], [0, 14, 2, 4], [0, 14, 4, 3], [0, 14, 6, 2], [0, 14, 8, 1], [0, 14, 10, 0], [0, 17, 1, 2], [0, 17, 3, 1], [0, 17, 5, 0], [0, 20, 0, 0], [1, 1, 1, 15], [1, 1, 3, 14], [1, 1, 5, 13], [1, 1, 7, 12], [1, 1, 9, 11], [1, 1, 11, 10], [1, 1, 13, 9], [1, 1, 15, 8], [1, 1, 17, 7], [1, 1, 19, 6], [1, 1, 21, 5], [1, 1, 23, 4], [1, 1, 25, 3], [1, 1, 27, 2], [1, 1, 29, 1], [1, 1, 31, 0], [1, 4, 0, 13], [1, 4, 2, 12], [1, 4, 4, 11], [1, 4, 6, 10], [1, 4, 8, 9], [1, 4, 10, 8], [1, 4, 12, 7], [1, 4, 14, 6], [1, 4, 16, 5], [1, 4, 18, 4], [1, 4, 20, 3], [1, 4, 22, 2], [1, 4, 24, 1], [1, 4, 26, 0], [1, 7, 1, 10], [1, 7, 3, 9], [1, 7, 5, 8], [1, 7, 7, 7], [1, 7, 9, 6], [1, 7, 11, 5], [1, 7, 13, 4], [1, 7, 15, 3], [1, 7, 17, 2], [1, 7, 19, 1], [1, 7, 21, 0], [1, 10, 0, 8], [1, 10, 2, 7], [1, 10, 4, 6], [1, 10, 6, 5], [1, 10, 8, 4], [1, 10, 10, 3], [1, 10, 12, 2], [1, 10, 14, 1], [1, 10, 16, 0], [1, 13, 1, 5], [1, 13, 3, 4], [1, 13, 5, 3], [1, 13, 7, 2], [1, 13, 9, 1], [1, 13, 11, 0], [1, 16, 0, 3], [1, 16, 2, 2], [1, 16, 4, 1], [1, 16, 6, 0], [1, 19, 1, 0], [2, 0, 0, 16], [2, 0, 2, 15], [2, 0, 4, 14], [2, 0, 6, 13], [2, 0, 8, 12], [2, 0, 10, 11], [2, 0, 12, 10], [2, 0, 14, 9], [2, 0, 16, 8], [2, 0, 18, 7], [2, 0, 20, 6], [2, 0, 22, 5], [2, 0, 24, 4], [2, 0, 26, 3], [2, 0, 28, 2], [2, 0, 30, 1], [2, 0, 32, 0], [2, 3, 1, 13], [2, 3, 3, 12], [2, 3, 5, 11], [2, 3, 7, 10], [2, 3, 9, 9], [2, 3, 11, 8], [2, 3, 13, 7], [2, 3, 15, 6], [2, 3, 17, 5], [2, 3, 19, 4], [2, 3, 21, 3], [2, 3, 23, 2], [2, 3, 25, 1], [2, 3, 27, 0], [2, 6, 0, 11], [2, 6, 2, 10], [2, 6, 4, 9], [2, 6, 6, 8], [2, 6, 8, 7], [2, 6, 10, 6], [2, 6, 12, 5], [2, 6, 14, 4], [2, 6, 16, 3], [2, 6, 18, 2], [2, 6, 20, 1], [2, 6, 22, 0], [2, 9, 1, 8], [2, 9, 3, 7], [2, 9, 5, 6], [2, 9, 7, 5], [2, 9, 9, 4], [2, 9, 11, 3], [2, 9, 13, 2], [2, 9, 15, 1], [2, 9, 17, 0], [2, 12, 0, 6], [2, 12, 2, 5], [2, 12, 4, 4], [2, 12, 6, 3], [2, 12, 8, 2], [2, 12, 10, 1], [2, 12, 12, 0], [2, 15, 1, 3], [2, 15, 3, 2], [2, 15, 5, 1], [2, 15, 7, 0], [2, 18, 0, 1], [2, 18, 2, 0], [3, 2, 0, 14], [3, 2, 2, 13], [3, 2, 4, 12], [3, 2, 6, 11], [3, 2, 8, 10], [3, 2, 10, 9], [3, 2, 12, 8], [3, 2, 14, 7], [3, 2, 16, 6], [3, 2, 18, 5], [3, 2, 20, 4], [3, 2, 22, 3], [3, 2, 24, 2], [3, 2, 26, 1], [3, 2, 28, 0], [3, 5, 1, 11], [3, 5, 3, 10], [3, 5, 5, 9], [3, 5, 7, 8], [3, 5, 9, 7], [3, 5, 11, 6], [3, 5, 13, 5], [3, 5, 15, 4], [3, 5, 17, 3], [3, 5, 19, 2], [3, 5, 21, 1], [3, 5, 23, 0], [3, 8, 0, 9], [3, 8, 2, 8], [3, 8, 4, 7], [3, 8, 6, 6], [3, 8, 8, 5], [3, 8, 10, 4], [3, 8, 12, 3], [3, 8, 14, 2], [3, 8, 16, 1], [3, 8, 18, 0], [3, 11, 1, 6], [3, 11, 3, 5], [3, 11, 5, 4], [3, 11, 7, 3], [3, 11, 9, 2], [3, 11, 11, 1], [3, 11, 13, 0], [3, 14, 0, 4], [3, 14, 2, 3], [3, 14, 4, 2], [3, 14, 6, 1], [3, 14, 8, 0], [3, 17, 1, 1], [3, 17, 3, 0], [4, 1, 1, 14], [4, 1, 3, 13], [4, 1, 5, 12], [4, 1, 7, 11], [4, 1, 9, 10], [4, 1, 11, 9], [4, 1, 13, 8], [4, 1, 15, 7], [4, 1, 17, 6], [4, 1, 19, 5], [4, 1, 21, 4], [4, 1, 23, 3], [4, 1, 25, 2], [4, 1, 27, 1], [4, 1, 29, 0], [4, 4, 0, 12], [4, 4, 2, 11], [4, 4, 4, 10], [4, 4, 6, 9], [4, 4, 8, 8], [4, 4, 10, 7], [4, 4, 12, 6], [4, 4, 14, 5], [4, 4, 16, 4], [4, 4, 18, 3], [4, 4, 20, 2], [4, 4, 22, 1], [4, 4, 24, 0], [4, 7, 1, 9], [4, 7, 3, 8], [4, 7, 5, 7], [4, 7, 7, 6], [4, 7, 9, 5], [4, 7, 11, 4], [4, 7, 13, 3], [4, 7, 15, 2], [4, 7, 17, 1], [4, 7, 19, 0], [4, 10, 0, 7], [4, 10, 2, 6], [4, 10, 4, 5], [4, 10, 6, 4], [4, 10, 8, 3], [4, 10, 10, 2], [4, 10, 12, 1], [4, 10, 14, 0], [4, 13, 1, 4], [4, 13, 3, 3], [4, 13, 5, 2], [4, 13, 7, 1], [4, 13, 9, 0], [4, 16, 0, 2], [4, 16, 2, 1], [4, 16, 4, 0], [5, 0, 0, 15], [5, 0, 2, 14], [5, 0, 4, 13], [5, 0, 6, 12], [5, 0, 8, 11], [5, 0, 10, 10], [5, 0, 12, 9], [5, 0, 14, 8], [5, 0, 16, 7], [5, 0, 18, 6], [5, 0, 20, 5], [5, 0, 22, 4], [5, 0, 24, 3], [5, 0, 26, 2], [5, 0, 28, 1], [5, 0, 30, 0], [5, 3, 1, 12], [5, 3, 3, 11], [5, 3, 5, 10], [5, 3, 7, 9], [5, 3, 9, 8], [5, 3, 11, 7], [5, 3, 13, 6], [5, 3, 15, 5], [5, 3, 17, 4], [5, 3, 19, 3], [5, 3, 21, 2], [5, 3, 23, 1], [5, 3, 25, 0], [5, 6, 0, 10], [5, 6, 2, 9], [5, 6, 4, 8], [5, 6, 6, 7], [5, 6, 8, 6], [5, 6, 10, 5], [5, 6, 12, 4], [5, 6, 14, 3], [5, 6, 16, 2], [5, 6, 18, 1], [5, 6, 20, 0], [5, 9, 1, 7], [5, 9, 3, 6], [5, 9, 5, 5], [5, 9, 7, 4], [5, 9, 9, 3], [5, 9, 11, 2], [5, 9, 13, 1], [5, 9, 15, 0], [5, 12, 0, 5], [5, 12, 2, 4], [5, 12, 4, 3], [5, 12, 6, 2], [5, 12, 8, 1], [5, 12, 10, 0], [5, 15, 1, 2], [5, 15, 3, 1], [5, 15, 5, 0], [5, 18, 0, 0], [6, 2, 0, 13], [6, 2, 2, 12], [6, 2, 4, 11], [6, 2, 6, 10], [6, 2, 8, 9], [6, 2, 10, 8], [6, 2, 12, 7], [6, 2, 14, 6], [6, 2, 16, 5], [6, 2, 18, 4], [6, 2, 20, 3], [6, 2, 22, 2], [6, 2, 24, 1], [6, 2, 26, 0], [6, 5, 1, 10], [6, 5, 3, 9], [6, 5, 5, 8], [6, 5, 7, 7], [6, 5, 9, 6], [6, 5, 11, 5], [6, 5, 13, 4], [6, 5, 15, 3], [6, 5, 17, 2], [6, 5, 19, 1], [6, 5, 21, 0], [6, 8, 0, 8], [6, 8, 2, 7], [6, 8, 4, 6], [6, 8, 6, 5], [6, 8, 8, 4], [6, 8, 10, 3], [6, 8, 12, 2], [6, 8, 14, 1], [6, 8, 16, 0], [6, 11, 1, 5], [6, 11, 3, 4], [6, 11, 5, 3], [6, 11, 7, 2], [6, 11, 9, 1], [6, 11, 11, 0], [6, 14, 0, 3], [6, 14, 2, 2], [6, 14, 4, 1], [6, 14, 6, 0], [6, 17, 1, 0], [7, 1, 1, 13], [7, 1, 3, 12], [7, 1, 5, 11], [7, 1, 7, 10], [7, 1, 9, 9], [7, 1, 11, 8], [7, 1, 13, 7], [7, 1, 15, 6], [7, 1, 17, 5], [7, 1, 19, 4], [7, 1, 21, 3], [7, 1, 23, 2], [7, 1, 25, 1], [7, 1, 27, 0], [7, 4, 0, 11], [7, 4, 2, 10], [7, 4, 4, 9], [7, 4, 6, 8], [7, 4, 8, 7], [7, 4, 10, 6], [7, 4, 12, 5], [7, 4, 14, 4], [7, 4, 16, 3], [7, 4, 18, 2], [7, 4, 20, 1], [7, 4, 22, 0], [7, 7, 1, 8], [7, 7, 3, 7], [7, 7, 5, 6], [7, 7, 7, 5], [7, 7, 9, 4], [7, 7, 11, 3], [7, 7, 13, 2], [7, 7, 15, 1], [7, 7, 17, 0], [7, 10, 0, 6], [7, 10, 2, 5], [7, 10, 4, 4], [7, 10, 6, 3], [7, 10, 8, 2], [7, 10, 10, 1], [7, 10, 12, 0], [7, 13, 1, 3], [7, 13, 3, 2], [7, 13, 5, 1], [7, 13, 7, 0], [7, 16, 0, 1], [7, 16, 2, 0], [8, 0, 0, 14], [8, 0, 2, 13], [8, 0, 4, 12], [8, 0, 6, 11], [8, 0, 8, 10], [8, 0, 10, 9], [8, 0, 12, 8], [8, 0, 14, 7], [8, 0, 16, 6], [8, 0, 18, 5], [8, 0, 20, 4], [8, 0, 22, 3], [8, 0, 24, 2], [8, 0, 26, 1], [8, 0, 28, 0], [8, 3, 1, 11], [8, 3, 3, 10], [8, 3, 5, 9], [8, 3, 7, 8], [8, 3, 9, 7], [8, 3, 11, 6], [8, 3, 13, 5], [8, 3, 15, 4], [8, 3, 17, 3], [8, 3, 19, 2], [8, 3, 21, 1], [8, 3, 23, 0], [8, 6, 0, 9], [8, 6, 2, 8], [8, 6, 4, 7], [8, 6, 6, 6], [8, 6, 8, 5], [8, 6, 10, 4], [8, 6, 12, 3], [8, 6, 14, 2], [8, 6, 16, 1], [8, 6, 18, 0], [8, 9, 1, 6], [8, 9, 3, 5], [8, 9, 5, 4], [8, 9, 7, 3], [8, 9, 9, 2], [8, 9, 11, 1], [8, 9, 13, 0], [8, 12, 0, 4], [8, 12, 2, 3], [8, 12, 4, 2], [8, 12, 6, 1], [8, 12, 8, 0], [8, 15, 1, 1], [8, 15, 3, 0], [9, 2, 0, 12], [9, 2, 2, 11], [9, 2, 4, 10], [9, 2, 6, 9], [9, 2, 8, 8], [9, 2, 10, 7], [9, 2, 12, 6], [9, 2, 14, 5], [9, 2, 16, 4], [9, 2, 18, 3], [9, 2, 20, 2], [9, 2, 22, 1], [9, 2, 24, 0], [9, 5, 1, 9], [9, 5, 3, 8], [9, 5, 5, 7], [9, 5, 7, 6], [9, 5, 9, 5], [9, 5, 11, 4], [9, 5, 13, 3], [9, 5, 15, 2], [9, 5, 17, 1], [9, 5, 19, 0], [9, 8, 0, 7], [9, 8, 2, 6], [9, 8, 4, 5], [9, 8, 6, 4], [9, 8, 8, 3], [9, 8, 10, 2], [9, 8, 12, 1], [9, 8, 14, 0], [9, 11, 1, 4], [9, 11, 3, 3], [9, 11, 5, 2], [9, 11, 7, 1], [9, 11, 9, 0], [9, 14, 0, 2], [9, 14, 2, 1], [9, 14, 4, 0], [10, 1, 1, 12], [10, 1, 3, 11], [10, 1, 5, 10], [10, 1, 7, 9], [10, 1, 9, 8], [10, 1, 11, 7], [10, 1, 13, 6], [10, 1, 15, 5], [10, 1, 17, 4], [10, 1, 19, 3], [10, 1, 21, 2], [10, 1, 23, 1], [10, 1, 25, 0], [10, 4, 0, 10], [10, 4, 2, 9], [10, 4, 4, 8], [10, 4, 6, 7], [10, 4, 8, 6], [10, 4, 10, 5], [10, 4, 12, 4], [10, 4, 14, 3], [10, 4, 16, 2], [10, 4, 18, 1], [10, 4, 20, 0], [10, 7, 1, 7], [10, 7, 3, 6], [10, 7, 5, 5], [10, 7, 7, 4], [10, 7, 9, 3], [10, 7, 11, 2], [10, 7, 13, 1], [10, 7, 15, 0], [10, 10, 0, 5], [10, 10, 2, 4], [10, 10, 4, 3], [10, 10, 6, 2], [10, 10, 8, 1], [10, 10, 10, 0], [10, 13, 1, 2], [10, 13, 3, 1], [10, 13, 5, 0], [10, 16, 0, 0], [11, 0, 0, 13], [11, 0, 2, 12], [11, 0, 4, 11], [11, 0, 6, 10], [11, 0, 8, 9], [11, 0, 10, 8], [11, 0, 12, 7], [11, 0, 14, 6], [11, 0, 16, 5], [11, 0, 18, 4], [11, 0, 20, 3], [11, 0, 22, 2], [11, 0, 24, 1], [11, 0, 26, 0], [11, 3, 1, 10], [11, 3, 3, 9], [11, 3, 5, 8], [11, 3, 7, 7], [11, 3, 9, 6], [11, 3, 11, 5], [11, 3, 13, 4], [11, 3, 15, 3], [11, 3, 17, 2], [11, 3, 19, 1], [11, 3, 21, 0], [11, 6, 0, 8], [11, 6, 2, 7], [11, 6, 4, 6], [11, 6, 6, 5], [11, 6, 8, 4], [11, 6, 10, 3], [11, 6, 12, 2], [11, 6, 14, 1], [11, 6, 16, 0], [11, 9, 1, 5], [11, 9, 3, 4], [11, 9, 5, 3], [11, 9, 7, 2], [11, 9, 9, 1], [11, 9, 11, 0], [11, 12, 0, 3], [11, 12, 2, 2], [11, 12, 4, 1], [11, 12, 6, 0], [11, 15, 1, 0], [12, 2, 0, 11], [12, 2, 2, 10], [12, 2, 4, 9], [12, 2, 6, 8], [12, 2, 8, 7], [12, 2, 10, 6], [12, 2, 12, 5], [12, 2, 14, 4], [12, 2, 16, 3], [12, 2, 18, 2], [12, 2, 20, 1], [12, 2, 22, 0], [12, 5, 1, 8], [12, 5, 3, 7], [12, 5, 5, 6], [12, 5, 7, 5], [12, 5, 9, 4], [12, 5, 11, 3], [12, 5, 13, 2], [12, 5, 15, 1], [12, 5, 17, 0], [12, 8, 0, 6], [12, 8, 2, 5], [12, 8, 4, 4], [12, 8, 6, 3], [12, 8, 8, 2], [12, 8, 10, 1], [12, 8, 12, 0], [12, 11, 1, 3], [12, 11, 3, 2], [12, 11, 5, 1], [12, 11, 7, 0], [12, 14, 0, 1], [12, 14, 2, 0], [13, 1, 1, 11], [13, 1, 3, 10], [13, 1, 5, 9], [13, 1, 7, 8], [13, 1, 9, 7], [13, 1, 11, 6], [13, 1, 13, 5], [13, 1, 15, 4], [13, 1, 17, 3], [13, 1, 19, 2], [13, 1, 21, 1], [13, 1, 23, 0], [13, 4, 0, 9], [13, 4, 2, 8], [13, 4, 4, 7], [13, 4, 6, 6], [13, 4, 8, 5], [13, 4, 10, 4], [13, 4, 12, 3], [13, 4, 14, 2], [13, 4, 16, 1], [13, 4, 18, 0], [13, 7, 1, 6], [13, 7, 3, 5], [13, 7, 5, 4], [13, 7, 7, 3], [13, 7, 9, 2], [13, 7, 11, 1], [13, 7, 13, 0], [13, 10, 0, 4], [13, 10, 2, 3], [13, 10, 4, 2], [13, 10, 6, 1], [13, 10, 8, 0], [13, 13, 1, 1], [13, 13, 3, 0], [14, 0, 0, 12], [14, 0, 2, 11], [14, 0, 4, 10], [14, 0, 6, 9], [14, 0, 8, 8], [14, 0, 10, 7], [14, 0, 12, 6], [14, 0, 14, 5], [14, 0, 16, 4], [14, 0, 18, 3], [14, 0, 20, 2], [14, 0, 22, 1], [14, 0, 24, 0], [14, 3, 1, 9], [14, 3, 3, 8], [14, 3, 5, 7], [14, 3, 7, 6], [14, 3, 9, 5], [14, 3, 11, 4], [14, 3, 13, 3], [14, 3, 15, 2], [14, 3, 17, 1], [14, 3, 19, 0], [14, 6, 0, 7], [14, 6, 2, 6], [14, 6, 4, 5], [14, 6, 6, 4], [14, 6, 8, 3], [14, 6, 10, 2], [14, 6, 12, 1], [14, 6, 14, 0], [14, 9, 1, 4], [14, 9, 3, 3], [14, 9, 5, 2], [14, 9, 7, 1], [14, 9, 9, 0], [14, 12, 0, 2], [14, 12, 2, 1], [14, 12, 4, 0], [15, 2, 0, 10], [15, 2, 2, 9], [15, 2, 4, 8], [15, 2, 6, 7], [15, 2, 8, 6], [15, 2, 10, 5], [15, 2, 12, 4], [15, 2, 14, 3], [15, 2, 16, 2], [15, 2, 18, 1], [15, 2, 20, 0], [15, 5, 1, 7], [15, 5, 3, 6], [15, 5, 5, 5], [15, 5, 7, 4], [15, 5, 9, 3], [15, 5, 11, 2], [15, 5, 13, 1], [15, 5, 15, 0], [15, 8, 0, 5], [15, 8, 2, 4], [15, 8, 4, 3], [15, 8, 6, 2], [15, 8, 8, 1], [15, 8, 10, 0], [15, 11, 1, 2], [15, 11, 3, 1], [15, 11, 5, 0], [15, 14, 0, 0], [16, 1, 1, 10], [16, 1, 3, 9], [16, 1, 5, 8], [16, 1, 7, 7], [16, 1, 9, 6], [16, 1, 11, 5], [16, 1, 13, 4], [16, 1, 15, 3], [16, 1, 17, 2], [16, 1, 19, 1], [16, 1, 21, 0], [16, 4, 0, 8], [16, 4, 2, 7], [16, 4, 4, 6], [16, 4, 6, 5], [16, 4, 8, 4], [16, 4, 10, 3], [16, 4, 12, 2], [16, 4, 14, 1], [16, 4, 16, 0], [16, 7, 1, 5], [16, 7, 3, 4], [16, 7, 5, 3], [16, 7, 7, 2], [16, 7, 9, 1], [16, 7, 11, 0], [16, 10, 0, 3], [16, 10, 2, 2], [16, 10, 4, 1], [16, 10, 6, 0], [16, 13, 1, 0], [17, 0, 0, 11], [17, 0, 2, 10], [17, 0, 4, 9], [17, 0, 6, 8], [17, 0, 8, 7], [17, 0, 10, 6], [17, 0, 12, 5], [17, 0, 14, 4], [17, 0, 16, 3], [17, 0, 18, 2], [17, 0, 20, 1], [17, 0, 22, 0], [17, 3, 1, 8], [17, 3, 3, 7], [17, 3, 5, 6], [17, 3, 7, 5], [17, 3, 9, 4], [17, 3, 11, 3], [17, 3, 13, 2], [17, 3, 15, 1], [17, 3, 17, 0], [17, 6, 0, 6], [17, 6, 2, 5], [17, 6, 4, 4], [17, 6, 6, 3], [17, 6, 8, 2], [17, 6, 10, 1], [17, 6, 12, 0], [17, 9, 1, 3], [17, 9, 3, 2], [17, 9, 5, 1], [17, 9, 7, 0], [17, 12, 0, 1], [17, 12, 2, 0], [18, 2, 0, 9], [18, 2, 2, 8], [18, 2, 4, 7], [18, 2, 6, 6], [18, 2, 8, 5], [18, 2, 10, 4], [18, 2, 12, 3], [18, 2, 14, 2], [18, 2, 16, 1], [18, 2, 18, 0], [18, 5, 1, 6], [18, 5, 3, 5], [18, 5, 5, 4], [18, 5, 7, 3], [18, 5, 9, 2], [18, 5, 11, 1], [18, 5, 13, 0], [18, 8, 0, 4], [18, 8, 2, 3], [18, 8, 4, 2], [18, 8, 6, 1], [18, 8, 8, 0], [18, 11, 1, 1], [18, 11, 3, 0], [19, 1, 1, 9], [19, 1, 3, 8], [19, 1, 5, 7], [19, 1, 7, 6], [19, 1, 9, 5], [19, 1, 11, 4], [19, 1, 13, 3], [19, 1, 15, 2], [19, 1, 17, 1], [19, 1, 19, 0], [19, 4, 0, 7], [19, 4, 2, 6], [19, 4, 4, 5], [19, 4, 6, 4], [19, 4, 8, 3], [19, 4, 10, 2], [19, 4, 12, 1], [19, 4, 14, 0], [19, 7, 1, 4], [19, 7, 3, 3], [19, 7, 5, 2], [19, 7, 7, 1], [19, 7, 9, 0], [19, 10, 0, 2], [19, 10, 2, 1], [19, 10, 4, 0], [20, 0, 0, 10], [20, 0, 2, 9], [20, 0, 4, 8], [20, 0, 6, 7], [20, 0, 8, 6], [20, 0, 10, 5], [20, 0, 12, 4], [20, 0, 14, 3], [20, 0, 16, 2], [20, 0, 18, 1], [20, 0, 20, 0], [20, 3, 1, 7], [20, 3, 3, 6], [20, 3, 5, 5], [20, 3, 7, 4], [20, 3, 9, 3], [20, 3, 11, 2], [20, 3, 13, 1], [20, 3, 15, 0], [20, 6, 0, 5], [20, 6, 2, 4], [20, 6, 4, 3], [20, 6, 6, 2], [20, 6, 8, 1], [20, 6, 10, 0], [20, 9, 1, 2], [20, 9, 3, 1], [20, 9, 5, 0], [20, 12, 0, 0], [21, 2, 0, 8], [21, 2, 2, 7], [21, 2, 4, 6], [21, 2, 6, 5], [21, 2, 8, 4], [21, 2, 10, 3], [21, 2, 12, 2], [21, 2, 14, 1], [21, 2, 16, 0], [21, 5, 1, 5], [21, 5, 3, 4], [21, 5, 5, 3], [21, 5, 7, 2], [21, 5, 9, 1], [21, 5, 11, 0], [21, 8, 0, 3], [21, 8, 2, 2], [21, 8, 4, 1], [21, 8, 6, 0], [21, 11, 1, 0], [22, 1, 1, 8], [22, 1, 3, 7], [22, 1, 5, 6], [22, 1, 7, 5], [22, 1, 9, 4], [22, 1, 11, 3], [22, 1, 13, 2], [22, 1, 15, 1], [22, 1, 17, 0], [22, 4, 0, 6], [22, 4, 2, 5], [22, 4, 4, 4], [22, 4, 6, 3], [22, 4, 8, 2], [22, 4, 10, 1], [22, 4, 12, 0], [22, 7, 1, 3], [22, 7, 3, 2], [22, 7, 5, 1], [22, 7, 7, 0], [22, 10, 0, 1], [22, 10, 2, 0], [23, 0, 0, 9], [23, 0, 2, 8], [23, 0, 4, 7], [23, 0, 6, 6], [23, 0, 8, 5], [23, 0, 10, 4], [23, 0, 12, 3], [23, 0, 14, 2], [23, 0, 16, 1], [23, 0, 18, 0], [23, 3, 1, 6], [23, 3, 3, 5], [23, 3, 5, 4], [23, 3, 7, 3], [23, 3, 9, 2], [23, 3, 11, 1], [23, 3, 13, 0], [23, 6, 0, 4], [23, 6, 2, 3], [23, 6, 4, 2], [23, 6, 6, 1], [23, 6, 8, 0], [23, 9, 1, 1], [23, 9, 3, 0], [24, 2, 0, 7], [24, 2, 2, 6], [24, 2, 4, 5], [24, 2, 6, 4], [24, 2, 8, 3], [24, 2, 10, 2], [24, 2, 12, 1], [24, 2, 14, 0], [24, 5, 1, 4], [24, 5, 3, 3], [24, 5, 5, 2], [24, 5, 7, 1], [24, 5, 9, 0], [24, 8, 0, 2], [24, 8, 2, 1], [24, 8, 4, 0], [25, 1, 1, 7], [25, 1, 3, 6], [25, 1, 5, 5], [25, 1, 7, 4], [25, 1, 9, 3], [25, 1, 11, 2], [25, 1, 13, 1], [25, 1, 15, 0], [25, 4, 0, 5], [25, 4, 2, 4], [25, 4, 4, 3], [25, 4, 6, 2], [25, 4, 8, 1], [25, 4, 10, 0], [25, 7, 1, 2], [25, 7, 3, 1], [25, 7, 5, 0], [25, 10, 0, 0], [26, 0, 0, 8], [26, 0, 2, 7], [26, 0, 4, 6], [26, 0, 6, 5], [26, 0, 8, 4], [26, 0, 10, 3], [26, 0, 12, 2], [26, 0, 14, 1], [26, 0, 16, 0], [26, 3, 1, 5], [26, 3, 3, 4], [26, 3, 5, 3], [26, 3, 7, 2], [26, 3, 9, 1], [26, 3, 11, 0], [26, 6, 0, 3], [26, 6, 2, 2], [26, 6, 4, 1], [26, 6, 6, 0], [26, 9, 1, 0], [27, 2, 0, 6], [27, 2, 2, 5], [27, 2, 4, 4], [27, 2, 6, 3], [27, 2, 8, 2], [27, 2, 10, 1], [27, 2, 12, 0], [27, 5, 1, 3], [27, 5, 3, 2], [27, 5, 5, 1], [27, 5, 7, 0], [27, 8, 0, 1], [27, 8, 2, 0], [28, 1, 1, 6], [28, 1, 3, 5], [28, 1, 5, 4], [28, 1, 7, 3], [28, 1, 9, 2], [28, 1, 11, 1], [28, 1, 13, 0], [28, 4, 0, 4], [28, 4, 2, 3], [28, 4, 4, 2], [28, 4, 6, 1], [28, 4, 8, 0], [28, 7, 1, 1], [28, 7, 3, 0], [29, 0, 0, 7], [29, 0, 2, 6], [29, 0, 4, 5], [29, 0, 6, 4], [29, 0, 8, 3], [29, 0, 10, 2], [29, 0, 12, 1], [29, 0, 14, 0], [29, 3, 1, 4], [29, 3, 3, 3], [29, 3, 5, 2], [29, 3, 7, 1], [29, 3, 9, 0], [29, 6, 0, 2], [29, 6, 2, 1], [29, 6, 4, 0], [30, 2, 0, 5], [30, 2, 2, 4], [30, 2, 4, 3], [30, 2, 6, 2], [30, 2, 8, 1], [30, 2, 10, 0], [30, 5, 1, 2], [30, 5, 3, 1], [30, 5, 5, 0], [30, 8, 0, 0], [31, 1, 1, 5], [31, 1, 3, 4], [31, 1, 5, 3], [31, 1, 7, 2], [31, 1, 9, 1], [31, 1, 11, 0], [31, 4, 0, 3], [31, 4, 2, 2], [31, 4, 4, 1], [31, 4, 6, 0], [31, 7, 1, 0], [32, 0, 0, 6], [32, 0, 2, 5], [32, 0, 4, 4], [32, 0, 6, 3], [32, 0, 8, 2], [32, 0, 10, 1], [32, 0, 12, 0], [32, 3, 1, 3], [32, 3, 3, 2], [32, 3, 5, 1], [32, 3, 7, 0], [32, 6, 0, 1], [32, 6, 2, 0], [33, 2, 0, 4], [33, 2, 2, 3], [33, 2, 4, 2], [33, 2, 6, 1], [33, 2, 8, 0], [33, 5, 1, 1], [33, 5, 3, 0], [34, 1, 1, 4], [34, 1, 3, 3], [34, 1, 5, 2], [34, 1, 7, 1], [34, 1, 9, 0], [34, 4, 0, 2], [34, 4, 2, 1], [34, 4, 4, 0], [35, 0, 0, 5], [35, 0, 2, 4], [35, 0, 4, 3], [35, 0, 6, 2], [35, 0, 8, 1], [35, 0, 10, 0], [35, 3, 1, 2], [35, 3, 3, 1], [35, 3, 5, 0], [35, 6, 0, 0], [36, 2, 0, 3], [36, 2, 2, 2], [36, 2, 4, 1], [36, 2, 6, 0], [36, 5, 1, 0], [37, 1, 1, 3], [37, 1, 3, 2], [37, 1, 5, 1], [37, 1, 7, 0], [37, 4, 0, 1], [37, 4, 2, 0], [38, 0, 0, 4], [38, 0, 2, 3], [38, 0, 4, 2], [38, 0, 6, 1], [38, 0, 8, 0], [38, 3, 1, 1], [38, 3, 3, 0], [39, 2, 0, 2], [39, 2, 2, 1], [39, 2, 4, 0], [40, 1, 1, 2], [40, 1, 3, 1], [40, 1, 5, 0], [40, 4, 0, 0], [41, 0, 0, 3], [41, 0, 2, 2], [41, 0, 4, 1], [41, 0, 6, 0], [41, 3, 1, 0], [42, 2, 0, 1], [42, 2, 2, 0], [43, 1, 1, 1], [43, 1, 3, 0], [44, 0, 0, 2], [44, 0, 2, 1], [44, 0, 4, 0], [45, 2, 0, 0], [46, 1, 1, 0], [47, 0, 0, 1], [47, 0, 2, 0], [50, 0, 0, 0]]\n"
     ]
    }
   ],
   "source": [
    "#better solution\n",
    "# hard to controll shawllow copy or deep copy....\n",
    "import copy\n",
    "def coin_change(cents, coin_type):\n",
    "    '''\n",
    "    \n",
    "    [\n",
    "        [  [1,2,3], ... , [1,0,1]  ]\n",
    "                    ...\n",
    "                    ...\n",
    "    ]\n",
    "    \n",
    "    '''\n",
    "    \n",
    "    cache = [[] for __ in range(cents+1)]\n",
    "    \n",
    "    for i,value in enumerate(coin_type):\n",
    "        if value <= cents:\n",
    "            temp = [0 for _ in coin_type]\n",
    "            temp[i] = 1\n",
    "            cache[value].append(temp)\n",
    "    for pre_sum, num_cent_collection in enumerate(cache):\n",
    "        if num_cent_collection:\n",
    "            for one_set in num_cent_collection:\n",
    "                for coin_type_num, coin_value in enumerate(coin_type):\n",
    "                    if coin_value + pre_sum <= cents:\n",
    "                        temp = copy.deepcopy(one_set)\n",
    "                        temp[coin_type_num] += 1\n",
    "                        if temp not in cache[coin_value+pre_sum]: \n",
    "                            cache[coin_value+pre_sum].append(temp)\n",
    "    return cache[-1]\n",
    "\n",
    "print(sorted(coin_change(100, [2, 5, 3, 6])))\n"
   ]
  },
  {
   "cell_type": "markdown",
   "metadata": {},
   "source": [
    "## Dynamic Programming | Set 5 (Edit Distance)\n",
    "Given two strings str1 and str2 and below operations that can performed on str1. Find minimum number of edits (operations) required to convert ‘str1’ into ‘str2’.\n",
    "- Insert\n",
    "- Remove\n",
    "- Replace\n",
    "\n",
    "All of the above operations are of equal cost."
   ]
  },
  {
   "cell_type": "raw",
   "metadata": {},
   "source": [
    "Examples: \n",
    "Input:   str1 = \"geek\", str2 = \"gesek\"\n",
    "Output:  1\n",
    "We can convert str1 into str2 by inserting a 's'.\n",
    "\n",
    "Input:   str1 = \"cat\", str2 = \"cut\"\n",
    "Output:  1\n",
    "We can convert str1 into str2 by replacing 'a' with 'u'.\n",
    "\n",
    "Input:   str1 = \"sunday\", str2 = \"saturday\"\n",
    "Output:  3\n",
    "Last three and first characters are same.  We basically\n",
    "need to convert \"un\" to \"atur\".  This can be done using\n",
    "below three operations. \n",
    "Replace 'n' with 'r', insert t, insert a"
   ]
  },
  {
   "cell_type": "code",
   "execution_count": 3,
   "metadata": {},
   "outputs": [
    {
     "name": "stdout",
     "output_type": "stream",
     "text": [
      "3\n"
     ]
    }
   ],
   "source": [
    "def edit_distance(first, second, m, n):\n",
    "    if m == 0:\n",
    "        return n\n",
    "    if n == 0:\n",
    "        return m\n",
    "    \n",
    "    if first[m-1] == second[n-1]:\n",
    "        return edit_distance(first, second, m-1, n-1)\n",
    "    \n",
    "    return 1 + min(edit_distance(first, second, m-1, n), edit_distance(first, second, m-1, n-1), edit_distance(first, second, m, n-1))\n",
    "\n",
    "str1 = \"sunday\"\n",
    "str2 = \"saturday\"\n",
    "print (edit_distance(str1, str2, len(str1), len(str2)))"
   ]
  },
  {
   "cell_type": "code",
   "execution_count": 8,
   "metadata": {},
   "outputs": [
    {
     "name": "stdout",
     "output_type": "stream",
     "text": [
      "3\n"
     ]
    }
   ],
   "source": [
    "import numpy as np\n",
    "def edit_distance(first, second, m, n):\n",
    "    if first == second:\n",
    "        return 0\n",
    "    cache = [ [None for _ in range(n + 1)] for _ in range(m + 1)]\n",
    "    \n",
    "    \n",
    "    for i in range(m + 1):\n",
    "        for j in range(n + 1):\n",
    "            if i==0:\n",
    "                cache[i][j] = j\n",
    "            elif j == 0:\n",
    "                cache[i][j] = i\n",
    "            elif(first[i-1] == second[j-1]):\n",
    "                cache[i][j] = cache[i-1][j-1]\n",
    "            else:\n",
    "                cache[i][j] = 1 + min(cache[i-1][j], cache[i][j-1], cache[i-1][j-1])\n",
    "                \n",
    "    return cache[-1][-1]\n",
    "\n",
    "str1 = \"sunday\"\n",
    "str2 = \"saturday\"\n",
    " \n",
    "print(edit_distance(str1, str2, len(str1), len(str2)))\n",
    "            \n",
    "    "
   ]
  },
  {
   "cell_type": "markdown",
   "metadata": {},
   "source": [
    "## Dynamic Programming | Set 13 (Cutting a Rod)\n",
    "Given a rod of length n inches and an array of prices that contains prices of all pieces of size smaller than n. Determine the maximum value obtainable by cutting up the rod and selling the pieces. For example, if length of the rod is 8 and the values of different pieces are given as following, then the maximum obtainable value is 22 (by cutting in two pieces of lengths 2 and 6)"
   ]
  },
  {
   "cell_type": "raw",
   "metadata": {},
   "source": [
    "length   | 1   2   3   4   5   6   7   8  \n",
    "--------------------------------------------\n",
    "price    | 1   5   8   9  10  17  17  20\n",
    "\n",
    "And if the prices are as following, then the maximum obtainable value is 24 (by cutting in eight pieces of length 1)\n",
    "\n",
    "length   | 1   2   3   4   5   6   7   8  \n",
    "--------------------------------------------\n",
    "price    | 3   5   8   9  10  17  17  20"
   ]
  },
  {
   "cell_type": "code",
   "execution_count": 16,
   "metadata": {},
   "outputs": [
    {
     "name": "stdout",
     "output_type": "stream",
     "text": [
      "22\n"
     ]
    }
   ],
   "source": [
    "def cutting_rod(price_list, length):\n",
    "    cache = [0 for _ in range(length)]  \n",
    "    for i, max_price in enumerate(cache):\n",
    "        if i < len(price_list):\n",
    "            cache[i] = price_list[i]\n",
    "        for j in range(i - 1):\n",
    "            cache[i] = max(cache[i], cache[j] + cache[i-j-1])\n",
    "    return cache[-1]\n",
    "arr = [1, 5, 8, 9, 10, 17, 17, 20]\n",
    "print(cutting_rod(arr,8))"
   ]
  },
  {
   "cell_type": "markdown",
   "metadata": {},
   "source": [
    "### Dynamic Programming | Set 25 (Subset Sum Problem)\n",
    "Given a set of non-negative integers, and a value sum, determine if there is a subset of the given set with sum equal to given sum."
   ]
  },
  {
   "cell_type": "raw",
   "metadata": {},
   "source": [
    "Examples: set[] = {3, 34, 4, 12, 5, 2}, sum = 9\n",
    "Output:  True  //There is a subset (4, 5) with sum 9."
   ]
  },
  {
   "cell_type": "raw",
   "metadata": {},
   "source": [
    "Let isSubSetSum(int set[], int n, int sum) be the function to find whether there is a subset of set[] with sum equal to sum. n is the number of elements in set[].\n",
    "The isSubsetSum problem can be divided into two subproblems\n",
    "…a) Include the last element, recur for n = n-1, sum = sum – set[n-1]\n",
    "…b) Exclude the last element, recur for n = n-1.\n",
    "If any of the above the above subproblems return true, then return true. \n",
    "Following is the recursive formula for isSubsetSum() problem.\n",
    "isSubsetSum(set, n, sum) = isSubsetSum(set, n-1, sum) || \n",
    "                           isSubsetSum(set, n-1, sum-set[n-1])\n",
    "Base Cases:\n",
    "isSubsetSum(set, n, sum) = false, if sum > 0 and n == 0\n",
    "isSubsetSum(set, n, sum) = true, if sum == 0 \n",
    "Following is naive recursive implementation that simply follows the recursive structure mentioned above."
   ]
  },
  {
   "cell_type": "code",
   "execution_count": 14,
   "metadata": {},
   "outputs": [
    {
     "data": {
      "text/plain": [
       "True"
      ]
     },
     "execution_count": 14,
     "metadata": {},
     "output_type": "execute_result"
    }
   ],
   "source": [
    "def subset_sum(num, n, set):\n",
    "    if num == 0:\n",
    "        return True\n",
    "    if n < 0:\n",
    "        return False\n",
    "    if set[n] > num:\n",
    "        return subset_sum(num, n-1, set)\n",
    "    return subset_sum(num, n-1, set) or subset_sum(num - set[n], n-1, set)\n",
    "\n",
    "subset_sum(6, 5, [3, 34, 4, 12, 5, 2])"
   ]
  },
  {
   "cell_type": "markdown",
   "metadata": {},
   "source": [
    "### Minimum number of jumps to reach end\n",
    "Given an array of integers where each element represents the max number of steps that can be made forward from that element. Write a function to return the minimum number of jumps to reach the end of the array (starting from the first element). If an element is 0, then cannot move through that element."
   ]
  },
  {
   "cell_type": "raw",
   "metadata": {},
   "source": [
    "Input: arr[] = {1, 3, 5, 8, 9, 2, 6, 7, 6, 8, 9}\n",
    "Output: 3 (1-> 3 -> 8 ->9)"
   ]
  },
  {
   "cell_type": "markdown",
   "metadata": {},
   "source": [
    "First element is 1, so can only go to 3. Second element is 3, so can make at most 3 steps eg to 5 or 8 or 9."
   ]
  },
  {
   "cell_type": "code",
   "execution_count": 32,
   "metadata": {},
   "outputs": [
    {
     "data": {
      "text/plain": [
       "3"
      ]
     },
     "execution_count": 32,
     "metadata": {},
     "output_type": "execute_result"
    }
   ],
   "source": [
    "def min_jump(arr):\n",
    "    jump_step = [arr[0]]\n",
    "    for i,value in enumerate(arr):\n",
    "        if i > jump_step[i]:\n",
    "            return 0\n",
    "        jump_step.append(i + max(arr[i:jump_step[i]+1]))\n",
    "        if len(arr) <= jump_step[i]:\n",
    "            return i\n",
    "min_jump([1, 3, 5, 8, 9, 2, 6, 7, 6, 8, 9])"
   ]
  },
  {
   "cell_type": "markdown",
   "metadata": {},
   "source": [
    "### Dynamic Programming | Set 34 (Assembly Line Scheduling)\n",
    "A car factory has two assembly lines, each with n stations. A station is denoted by Si,j where i is either 1 or 2 and indicates the assembly line the station is on, and j indicates the number of the station. The time taken per station is denoted by ai,j. Each station is dedicated to some sort of work like engine fitting, body fitting, painting and so on. So, a car chassis must pass through each of the n stations in order before exiting the factory. The parallel stations of the two assembly lines perform the same task. After it passes through station Si,j, it will continue to station Si,j+1 unless it decides to transfer to the other line. Continuing on the same line incurs no extra cost, but transferring from line i at station j – 1 to station j on the other line takes time ti,j. Each assembly line takes an entry time ei and exit time xi which may be different for the two lines. Give an algorithm for computing the minimum time it will take to build a car chassis.\n",
    "The below figure presents the problem in a clear picture:\n",
    "http://www.geeksforgeeks.org/wp-content/uploads/Figure-1-1024x767.jpg![image.png](attachment:image.png)\n"
   ]
  },
  {
   "cell_type": "markdown",
   "metadata": {},
   "source": [
    "### Dynamic Programming | Set 14 (Maximum Sum Increasing Subsequence)\n",
    "Given an array of n positive integers. Write a program to find the sum of maximum sum subsequence of the given array such that the intgers in the subsequence are sorted in increasing order. For example, if input is {1, 101, 2, 3, 100, 4, 5}, then output should be 106 (1 + 2 + 3 + 100), if the input array is {3, 4, 5, 10}, then output should be 22 (3 + 4 + 5 + 10) and if the input array is {10, 5, 4, 3}, then output should be 10"
   ]
  },
  {
   "cell_type": "code",
   "execution_count": 36,
   "metadata": {},
   "outputs": [
    {
     "name": "stdout",
     "output_type": "stream",
     "text": [
      "[3, 7, 12, 22]\n",
      "22\n"
     ]
    }
   ],
   "source": [
    "#not naive approach\n",
    "def max_sum(arr):\n",
    "    max_arr = [i for i in arr]\n",
    "    for i, value in enumerate(arr):\n",
    "        temp = value\n",
    "        for j in range(0, i):\n",
    "            if value > arr[j]:\n",
    "                if max_arr[j] + value >temp:\n",
    "                    temp = max_arr[j] + value\n",
    "        max_arr[i] = temp\n",
    "    print(max_arr)\n",
    "    return max(max_arr)\n",
    "print(max_sum([3, 4, 5, 10]))"
   ]
  },
  {
   "cell_type": "markdown",
   "metadata": {},
   "source": [
    "### Dynamic Programming | Set 20 (Maximum Length Chain of Pairs)\n",
    "You are given n pairs of numbers. In every pair, the first number is always smaller than the second number. A pair (c, d) can follow another pair (a, b) if b < c. Chain of pairs can be formed in this fashion. Find the longest chain which can be formed from a given set of pairs. Source: Amazon Interview | Set 2\n",
    "For example, if the given pairs are {{5, 24}, {39, 60}, {15, 28}, {27, 40}, {50, 90} }, then the longest chain that can be formed is of length 3, and the chain is {{5, 24}, {27, 40}, {50, 90}}"
   ]
  },
  {
   "cell_type": "code",
   "execution_count": 50,
   "metadata": {},
   "outputs": [
    {
     "name": "stdout",
     "output_type": "stream",
     "text": [
      "3\n"
     ]
    }
   ],
   "source": [
    "def max_len_chain(list):\n",
    "    cache = [1 for _ in list]\n",
    "    cache[0] = 1\n",
    "    sorted(list)\n",
    "    for i in range(1, len(list)):\n",
    "        for j in range(i, -1, -1):\n",
    "            if list[i][0] > list[j][1]:\n",
    "                cache[i] = cache[j] + 1\n",
    "                break\n",
    "    return max(cache)\n",
    "\n",
    "print(max_len_chain([[5, 24], [39, 60], [15, 28], [27, 40], [50, 90] ]))"
   ]
  },
  {
   "cell_type": "markdown",
   "metadata": {},
   "source": [
    "### Dynamic Programming | Set 29 (Longest Common Substring)\n",
    "Given two strings ‘X’ and ‘Y’, find the length of the longest common substring. \n",
    "Examples : "
   ]
  },
  {
   "cell_type": "raw",
   "metadata": {},
   "source": [
    "Input : X = \"GeeksforGeeks\", y = \"GeeksQuiz\"\n",
    "Output : 5\n",
    "The longest common substring is \"Geeks\" and is of\n",
    "length 5.\n",
    "\n",
    "Input : X = \"abcdxyz\", y = \"xyzabcd\"\n",
    "Output : 4\n",
    "The longest common substring is \"abcd\" and is of\n",
    "length 4.\n",
    "\n",
    "Input : X = \"zxabcdezy\", y = \"yzabcdezx\"\n",
    "Output : 6\n",
    "The longest common substring is \"abcdez\" and is of\n",
    "length 6."
   ]
  },
  {
   "cell_type": "code",
   "execution_count": 62,
   "metadata": {
    "scrolled": true
   },
   "outputs": [
    {
     "name": "stdout",
     "output_type": "stream",
     "text": [
      "[[ 0.  0.  0.  1.  0.  0.  0.]\n",
      " [ 0.  0.  0.  0.  2.  0.  0.]\n",
      " [ 0.  0.  0.  0.  0.  3.  0.]\n",
      " [ 0.  0.  0.  0.  0.  0.  4.]\n",
      " [ 1.  0.  0.  0.  0.  0.  0.]\n",
      " [ 0.  2.  0.  0.  0.  0.  0.]\n",
      " [ 0.  0.  3.  0.  0.  0.  0.]]\n",
      "1.0\n"
     ]
    }
   ],
   "source": [
    "#naive approach\n",
    "import numpy as np\n",
    "def longest_common(str1, str2):\n",
    "    cache = np.zeros((len(str1), len(str2)))\n",
    "    if str1[0] == str2[0]:\n",
    "        cache[0][0] = 1 \n",
    "    ret = 0\n",
    "    for i, char1 in enumerate(str1):\n",
    "        for j, char2 in enumerate(str2):\n",
    "            if char1 == char2:\n",
    "                if j-1>=0:\n",
    "                    cache[i][j] = cache[i-1][j-1] + 1\n",
    "                else:\n",
    "                    cache[i][j] = 1\n",
    "                    ret = max(ret, cache[i][j])\n",
    "    print(cache)\n",
    "    return ret          \n",
    "print(longest_common(\"abcdxyz\", \"xyzabcd\"))\n",
    "                "
   ]
  },
  {
   "cell_type": "markdown",
   "metadata": {},
   "source": [
    "### Count all possible paths from top left to bottom right of a mXn matrix\n",
    "The problem is to count all the possible paths from top left to bottom right of a mXn matrix with the constraints that from each cell you can either move only to right or down"
   ]
  },
  {
   "cell_type": "code",
   "execution_count": null,
   "metadata": {
    "collapsed": true
   },
   "outputs": [],
   "source": [
    "# Python program to count all possible paths \n",
    "# from top left to bottom right\n",
    "  \n",
    "# function to return count of possible paths\n",
    "# to reach cell at row number m and column\n",
    "# number n from the topmost leftmost\n",
    "# cell (cell at 1, 1)\n",
    "def numberOfPaths(m, n):\n",
    "   # If either given row number is first\n",
    "   # or given column number is first\n",
    "   if(m == 1 or n == 1):\n",
    "        return 1\n",
    "   \n",
    "   # If diagonal movements are allowed\n",
    "   # then the last addition\n",
    "   # is required.\n",
    "   return  numberOfPaths(m-1, n) + numberOfPaths(m, n-1)\n",
    " \n",
    "# Driver program to test above function  \n",
    "m = 3\n",
    "n = 3\n",
    "print(numberOfPaths(m, n))\n",
    " \n",
    "# This code is contributed by Aditi Sharma"
   ]
  },
  {
   "cell_type": "markdown",
   "metadata": {},
   "source": [
    "### Program for nth Catalan Number\n",
    "Catalan numbers are a sequence of natural numbers that occurs in many interesting counting problems like following.\n",
    "- Count the number of expressions containing n pairs of parentheses which are correctly matched. For n = 3, possible expressions are ((())), ()(()), ()()(), (())(), (()()).\n",
    "- Count the number of possible Binary Search Trees with n keys (See this)\n",
    "- Count the number of full binary trees (A rooted binary tree is full if every vertex has either two children or no children) with n+1 leaves.\n",
    "\n",
    "See this for more applications. \n",
    "The first few Catalan numbers for n = 0, 1, 2, 3, … are 1, 1, 2, 5, 14, 42, 132, 429, 1430, 4862, …"
   ]
  },
  {
   "cell_type": "code",
   "execution_count": 63,
   "metadata": {},
   "outputs": [
    {
     "ename": "SyntaxError",
     "evalue": "invalid character in identifier (<ipython-input-63-30300f4d8752>, line 4)",
     "output_type": "error",
     "traceback": [
      "\u001b[0;36m  File \u001b[0;32m\"<ipython-input-63-30300f4d8752>\"\u001b[0;36m, line \u001b[0;32m4\u001b[0m\n\u001b[0;31m    if (n == 0 or n == 1):\u001b[0m\n\u001b[0m     ^\u001b[0m\n\u001b[0;31mSyntaxError\u001b[0m\u001b[0;31m:\u001b[0m invalid character in identifier\n"
     ]
    }
   ],
   "source": [
    "# A dynamic programming based function to find nth\n",
    "# Catalan number\n",
    "def catalanDP(n):\n",
    "    if (n == 0 or n == 1):\n",
    "        return 1\n",
    " \n",
    "    # Table to store results of subproblems\n",
    "    catalan = [0 for i in range(n + 1)]\n",
    " \n",
    "    # Initialize first two values in table\n",
    "    catalan[0] = 1\n",
    "    catalan[1] = 1\n",
    " \n",
    "    # Fill entries in catalan[] using recursive formula\n",
    "    for i in range(2, n + 1):\n",
    "        catalan[i] = 0\n",
    "        for j in range(i):\n",
    "            catalan[i] = catalan[i] + catalan[j] * catalan[i-j-1]\n",
    " \n",
    "    # Return last entry\n",
    "    return catalan[n]\n",
    " \n",
    "# Driver code\n",
    "for i in range (11):\n",
    "    print (catalanDP(i))\n",
    "# This code is contributed by Aditi Sharma"
   ]
  },
  {
   "cell_type": "markdown",
   "metadata": {},
   "source": [
    "### Count number of ways to reach a given score in a game\n",
    "Consider a game where a player can score 3 or 5 or 10 points in a move. Given a total score n, find number of ways to reach the given score.\n",
    "Examples:"
   ]
  },
  {
   "cell_type": "raw",
   "metadata": {},
   "source": [
    "Input: n = 20\n",
    "Output: 4\n",
    "There are following 4 ways to reach 20\n",
    "(10, 10)\n",
    "(5, 5, 10)\n",
    "(5, 5, 5, 5)\n",
    "(3, 3, 3, 3, 3, 5)\n",
    "\n",
    "Input: n = 13\n",
    "Output: 2\n",
    "There are following 2 ways to reach 13\n",
    "(3, 5, 5)\n",
    "(3, 10)"
   ]
  },
  {
   "cell_type": "code",
   "execution_count": 86,
   "metadata": {},
   "outputs": [
    {
     "name": "stdout",
     "output_type": "stream",
     "text": [
      "0 0 2\n",
      "0 2 1\n",
      "0 4\n",
      "5 1\n",
      "([[10, 10], [5, 5, 10], [5, 5, 5, 5], [3, 3, 3, 3, 3, 5]], 4)\n"
     ]
    }
   ],
   "source": [
    "def num_way_reach_num(num):\n",
    "    \n",
    "    ret = []\n",
    "    for i in range((num+3)//3):\n",
    "        temp = num - i*3\n",
    "        if temp == 0:\n",
    "            print(i)\n",
    "            ret.append([3]*i)\n",
    "        if temp <= 0:\n",
    "            break\n",
    "        for j in range((num+5)//5):\n",
    "            temp = num - i*3 - j*5\n",
    "            if temp == 0:\n",
    "                print(i,j)\n",
    "                ret.append([3]*i + [5]*j)\n",
    "            if temp <= 0 :\n",
    "                break\n",
    "            for k in range((10+num)//10):\n",
    "                temp = num - i*3 - j*5 - k*10 \n",
    "                if temp < 0:\n",
    "                    break\n",
    "                if temp == 0:\n",
    "                    print(i,j,k)\n",
    "                    ret.append([3]*i + [5]*j + [10]*k)\n",
    "    return ret, len(ret)\n",
    "\n",
    "print(num_way_reach_num(20))"
   ]
  },
  {
   "cell_type": "raw",
   "metadata": {},
   "source": [
    "// Returns number of ways to reach score n\n",
    "int count(int n)\n",
    "{\n",
    "    // table[i] will store count of solutions for\n",
    "    // value i.\n",
    "    int table[n+1], i;\n",
    " \n",
    "    // Initialize all table values as 0\n",
    "    memset(table, 0, sizeof(table));\n",
    " \n",
    "    // Base case (If given value is 0)\n",
    "    table[0] = 1;\n",
    " \n",
    "    // One by one consider given 3 moves and update the table[]\n",
    "    // values after the index greater than or equal to the\n",
    "    // value of the picked move\n",
    "    for (i=3; i<=n; i++)\n",
    "       table[i] += table[i-3];\n",
    "    for (i=5; i<=n; i++)\n",
    "       table[i] += table[i-5];\n",
    "    for (i=10; i<=n; i++)\n",
    "       table[i] += table[i-10];\n",
    " \n",
    "    return table[n];\n",
    "}"
   ]
  },
  {
   "attachments": {
    "image.png": {
     "image/png": "[encoded data removed]"
    }
   },
   "cell_type": "markdown",
   "metadata": {},
   "source": [
    "### Tiling Problem\n",
    "Given a “2 x n” board and tiles of size “2 x 1”, count the number of ways to tile the given board using the 2 x 1 tiles. A tile can either be placed horizontally i.e., as a 1 x 2 tile or vertically i.e., as 2 x 1 tile. \n",
    "![image.png](attachment:image.png)"
   ]
  },
  {
   "cell_type": "raw",
   "metadata": {},
   "source": [
    "Input n = 3\n",
    "Output: 3\n",
    "Explanation:\n",
    "We need 3 tiles to tile the board of size  2 x 3. \n",
    "We can tile the board using following ways\n",
    "1) Place all 3 tiles vertically. \n",
    "2) Place first tile vertically and remaining 2 tiles horizontally.\n",
    "3) Place first 2 tiles horizontally and remaining tiles vertically\n",
    "\n",
    "Input n = 4\n",
    "Output: 5\n",
    "Explanation:\n",
    "For a 2 x 4 board, there are 5 ways\n",
    "1) All 4 vertical\n",
    "2) All 4 horizontal\n",
    "3) First 2 vertical, remaining 2 horizontal\n",
    "4) First 2 horizontal, remaining 2 vertical\n",
    "5) Corner 2 vertical, middle 2 horizontal\n"
   ]
  },
  {
   "cell_type": "code",
   "execution_count": 2,
   "metadata": {},
   "outputs": [
    {
     "name": "stdout",
     "output_type": "stream",
     "text": [
      "5\n"
     ]
    }
   ],
   "source": [
    "'''\n",
    "Let “count(n)” be the count of ways to place tiles on a “2 x n” grid, we have following two ways to place first tile.\n",
    "1) If we place first tile vertically, the problem reduces to “count(n-1)”\n",
    "2) If we place first tile horizontally, we have to place second tile also horizontally. So the problem reduces to “count(n-2)”\n",
    "\n",
    "count(n) = n if n = 1 or n = 2\n",
    "count(n) = count(n-1) + count(n-2) \n",
    "'''\n",
    "def till(num):\n",
    "    if num < 3:\n",
    "        return num\n",
    "    return till(num-1) + till(num-2)\n",
    "\n",
    "#dp\n",
    "\n",
    "def dp_till(num):\n",
    "    if num < 3:\n",
    "        return num\n",
    "    cache = [None for _ in range(num+1)]\n",
    "    cache[0:3] = [0, 1, 2]\n",
    "    \n",
    "    for i in range(3, num + 1):\n",
    "        cache[i] = cache[i-1] + cache[i - 2]\n",
    "    return cache[-1]\n",
    "\n",
    "print(dp_till(4))\n"
   ]
  },
  {
   "cell_type": "markdown",
   "metadata": {},
   "source": [
    "### Count even length binary sequences with same sum of first and second half bits\n",
    "Given a number n, find count of all binary sequences of length 2n such that sum of first n bits is same as sum of last n bits.\n",
    "Examples:"
   ]
  },
  {
   "cell_type": "raw",
   "metadata": {},
   "source": [
    "Input:  n = 1\n",
    "Output: 2\n",
    "There are 2 sequences of length 2*n, the\n",
    "sequences are 00 and 11\n",
    "\n",
    "Input:  n = 2\n",
    "Output: 2\n",
    "There are 6 sequences of length 2*n, the\n",
    "sequences are 0101, 0110, 1010, 1001, 0000\n",
    "and 1111"
   ]
  },
  {
   "cell_type": "code",
   "execution_count": 13,
   "metadata": {},
   "outputs": [
    {
     "name": "stdout",
     "output_type": "stream",
     "text": [
      "18\n"
     ]
    }
   ],
   "source": [
    "def sequence_count(num):\n",
    "    cache = [0 for i in range(num+1)]\n",
    "    cache[0:1] = [0, 1]\n",
    "    for i in range(2, num+1):\n",
    "        cache[i] = i*cache[i-1]\n",
    "    return sum(cache)*2\n",
    "print(sequence_count(3))"
   ]
  },
  {
   "cell_type": "markdown",
   "metadata": {},
   "source": [
    "## Find number of solutions of a linear equation of n variables\n",
    "Given a linear equation of n variables, find number of non-negative integer solutions of it. For example,let the given equation be “x + 2y = 5”, solutions of this equation are “x = 1, y = 2”, “x = 5, y = 0” and “x = 1. It may be assumed that all coefficients in given equation are positive integers.\n",
    "Example: "
   ]
  },
  {
   "cell_type": "raw",
   "metadata": {},
   "source": [
    "Input:  coeff[] = {1, 2}, rhs = 5\n",
    "Output: 3\n",
    "The equation \"x + 2y = 5\" has 3 solutions.\n",
    "(x=3,y=1), (x=1,y=2), (x=5,y=0)\n",
    "\n",
    "Input:  coeff[] = {2, 2, 3}, rhs = 4\n",
    "Output: 3\n",
    "The equation \"2x + 2y + 3z = 4\"  has 3 solutions.\n",
    "(x=0,y=2,z=0), (x=2,y=0,z=0), (x=1,y=1,z=0)"
   ]
  },
  {
   "cell_type": "code",
   "execution_count": 21,
   "metadata": {},
   "outputs": [
    {
     "name": "stdout",
     "output_type": "stream",
     "text": [
      "---$$ 0 1 0 5\n",
      "1 5\n",
      "---$$ 0 1 0 4\n",
      "1 4\n",
      "---$$ 0 1 0 3\n",
      "1 3\n",
      "---$$ 0 1 0 2\n",
      "1 2\n",
      "---$$ 0 1 0 1\n",
      "1 1\n",
      "hit\n",
      "---$$ 1 2 0 1\n",
      "---$$ 1 2 0 2\n",
      "2 2\n",
      "hit\n",
      "---$$ 1 2 0 3\n",
      "2 3\n",
      "---$$ 1 2 0 4\n",
      "2 4\n",
      "---$$ 1 2 0 5\n",
      "2 5\n",
      "3\n"
     ]
    }
   ],
   "source": [
    "#dummy solution\n",
    "def find_solution(coeff, rhs, pos):\n",
    "   # print(\"rhs is: \", rhs)\n",
    "    if rhs == 0:\n",
    "        return 1    \n",
    "    \n",
    "    if len(coeff) == pos+1:\n",
    "        if rhs % coeff[-1] == 0:\n",
    "            return 1\n",
    "        else:\n",
    "            return 0\n",
    "        \n",
    "    for i, num in enumerate(coeff[pos:]):\n",
    "        if num <= rhs:\n",
    "            print(num, rhs)\n",
    "            result += find_solution(coeff, rhs - num, i)\n",
    "    \n",
    "    return result\n",
    "\n",
    "print(find_solution((1,2), 5, 0))"
   ]
  },
  {
   "cell_type": "code",
   "execution_count": null,
   "metadata": {
    "collapsed": true
   },
   "outputs": [],
   "source": []
  }
 ],
 "metadata": {
  "kernelspec": {
   "display_name": "Python 3",
   "language": "python",
   "name": "python3"
  },
  "language_info": {
   "codemirror_mode": {
    "name": "ipython",
    "version": 3
   },
   "file_extension": ".py",
   "mimetype": "text/x-python",
   "name": "python",
   "nbconvert_exporter": "python",
   "pygments_lexer": "ipython3",
   "version": "3.6.0"
  }
 },
 "nbformat": 4,
 "nbformat_minor": 2
}
