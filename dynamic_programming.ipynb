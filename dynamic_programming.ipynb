{
 "cells": [
  {
   "cell_type": "markdown",
   "metadata": {},
   "source": [
    "# dynamic Programming\n",
    "## Basic concepts\n",
    "    http://www.geeksforgeeks.org/dynamic-programming/\n",
    "## Basic programming problem\n",
    "- Program for Fibonacci numbers"
   ]
  },
  {
   "cell_type": "code",
   "execution_count": 8,
   "metadata": {},
   "outputs": [
    {
     "name": "stdout",
     "output_type": "stream",
     "text": [
      "34\n"
     ]
    }
   ],
   "source": [
    "#only use recursion(start with 0..fib(0) = 0, fib(1) = 0+1 ...) \n",
    "def fib(num):\n",
    "    if num < 3:\n",
    "        return num\n",
    "    return fib(num-1) + fib(num-2)\n",
    "print(fib(8))"
   ]
  },
  {
   "cell_type": "code",
   "execution_count": 15,
   "metadata": {},
   "outputs": [
    {
     "name": "stdout",
     "output_type": "stream",
     "text": [
      "34\n"
     ]
    }
   ],
   "source": [
    "#recursion with cache\n",
    "def fib(num):\n",
    "    num -= 1\n",
    "    global cache\n",
    "    cache = [None for _ in range(num + 1)]\n",
    "    \n",
    "    def _fib(num):\n",
    "        if num < 3:\n",
    "            return num\n",
    "        global cache\n",
    "        if cache[num]:\n",
    "            return cache[num]\n",
    "        result = _fib(num - 1) + _fib(num - 2)\n",
    "        cache[num] = result\n",
    "        return result\n",
    "    return _fib(num)\n",
    "print(fib(9))    "
   ]
  },
  {
   "cell_type": "code",
   "execution_count": 16,
   "metadata": {},
   "outputs": [
    {
     "name": "stdout",
     "output_type": "stream",
     "text": [
      "34\n"
     ]
    }
   ],
   "source": [
    "#dp\n",
    "def fib(num):\n",
    "    fib = [0, 1, 2]\n",
    "    for i in range(3, num):\n",
    "        fib.append(fib[i-1] + fib[i-2])\n",
    "    return fib[-1]\n",
    "print(fib(9))"
   ]
  },
  {
   "cell_type": "code",
   "execution_count": 17,
   "metadata": {},
   "outputs": [
    {
     "name": "stdout",
     "output_type": "stream",
     "text": [
      "34\n"
     ]
    }
   ],
   "source": [
    "#optimized memory space\n",
    "def fib(num):\n",
    "    a = 0\n",
    "    b = 1\n",
    "    c = a + b\n",
    "    for i in range(2, num):\n",
    "        a = b\n",
    "        b = c\n",
    "        c = a + b\n",
    "    return c\n",
    "\n",
    "print(fib(9))"
   ]
  },
  {
   "cell_type": "markdown",
   "metadata": {},
   "source": [
    "## Binomial Coefficient\n",
    "Following are common definition of Binomial Coefficients.\n",
    "- A binomial coefficient C(n, k) can be defined as the coefficient of X^k in the expansion of (1 + X)^n.\n",
    "- A binomial coefficient C(n, k) also gives the number of ways, disregarding order, that k objects can be chosen from among n objects; more formally, the number of k-element subsets (or k-combinations) of an n-element set.\n",
    "### The problem\n",
    "Write a function that takes two parameters n and k and returns the value of Binomial Coefficient C(n, k). For example, your function should return 6 for n = 4 and k = 2, and it should return 10 for n = 5 and k = 2."
   ]
  },
  {
   "cell_type": "code",
   "execution_count": 20,
   "metadata": {},
   "outputs": [
    {
     "name": "stdout",
     "output_type": "stream",
     "text": [
      "10.0\n"
     ]
    }
   ],
   "source": [
    "#recurision\n",
    "def bin_coefficient(n, k):\n",
    "    fac = [None for _ in range(n + 1)]\n",
    "    \n",
    "    def _love(n):\n",
    "        if n < 3:\n",
    "            return n\n",
    "        if fac[n]:\n",
    "            return fac[n]\n",
    "        fac[n] = _love(n-1) * n\n",
    "        return fac[n]\n",
    "    \n",
    "    return _love(n)/_love(k) / _love(n-k)\n",
    "print(bin_coefficient(5, 2))"
   ]
  },
  {
   "cell_type": "markdown",
   "metadata": {},
   "source": [
    "The value of C(n, k) can be recursively calculated using following standard formula for Binomial Coefficients.\n",
    "\n",
    "     C(n, k) = C(n-1, k-1) + C(n-1, k)\n",
    "     C(n, 0) = C(n, n) = 1\n",
    "\n",
    "    "
   ]
  },
  {
   "cell_type": "code",
   "execution_count": 26,
   "metadata": {},
   "outputs": [
    {
     "name": "stdout",
     "output_type": "stream",
     "text": [
      "10 call:  19\n"
     ]
    }
   ],
   "source": [
    "#dummy version without cache\n",
    "global call_count\n",
    "call_count = 0\n",
    "def bin_coefficient(n, k):\n",
    "    global call_count\n",
    "    call_count += 1\n",
    "    if(n == k):\n",
    "        return 1\n",
    "    if(k == 0):\n",
    "        return 1\n",
    "    return bin_coefficient(n-1, k-1) + bin_coefficient(n-1, k)\n",
    "print(bin_coefficient(5, 2), \" call:\",call_count)"
   ]
  },
  {
   "cell_type": "code",
   "execution_count": 32,
   "metadata": {},
   "outputs": [
    {
     "name": "stdout",
     "output_type": "stream",
     "text": [
      "10 11\n"
     ]
    }
   ],
   "source": [
    "#add cache\n",
    "global cache\n",
    "global count\n",
    "count = 0\n",
    "def bin_coefficient(n, k):\n",
    "    cache = [[None for _ in range(k+1)] for _ in range(n+1)]\n",
    "    def _xql(n, k):\n",
    "        global count\n",
    "        count += 1\n",
    "        if(n == k):\n",
    "            return 1\n",
    "        if(k == 0):\n",
    "            return 1\n",
    "        if not cache[n-1][k-1]:\n",
    "            cache[n-1][k-1] = _xql(n-1, k-1)\n",
    "        if not cache[n - 1][k]:\n",
    "            cache[n - 1][k] = _xql(n-1, k)\n",
    "        return cache[n-1][k-1]+cache[n - 1][k] \n",
    "    return _xql(n, k)\n",
    "print(bin_coefficient(5, 2), count)"
   ]
  },
  {
   "cell_type": "markdown",
   "metadata": {},
   "source": [
    "## Longest Common Subsequence\n",
    "We have discussed Overlapping Subproblems and Optimal Substructure properties in Set 1 and Set 2 respectively. We also discussed one example problem in Set 3. Let us discuss Longest Common Subsequence (LCS) problem as one more example problem that can be solved using Dynamic Programming.\n",
    "\n",
    "LCS Problem Statement: Given two sequences, find the length of longest subsequence present in both of them. A subsequence is a sequence that appears in the same relative order, but not necessarily contiguous. For example, “abc”, “abg”, “bdf”, “aeg”, ‘”acefg”, .. etc are subsequences of “abcdefg”. So a string of length n has 2^n different possible subsequences.\n",
    "\n",
    "It is a classic computer science problem, the basis of diff (a file comparison program that outputs the differences between two files), and has applications in bioinformatics.\n",
    "\n",
    "**Examples:**\n",
    "LCS for input Sequences “ABCDGH” and “AEDFHR” is “ADH” of length 3.\n",
    "LCS for input Sequences “AGGTAB” and “GXTXAYB” is “GTAB” of length 4."
   ]
  },
  {
   "cell_type": "code",
   "execution_count": 61,
   "metadata": {},
   "outputs": [
    {
     "name": "stdout",
     "output_type": "stream",
     "text": [
      "[[0, 0, 0, 0, 0, 0, 0, 0], [0, 0, 0, 0, 0, 1, 1, 1], [0, 1, 1, 1, 1, 1, 1, 1], [0, 1, 1, 1, 1, 1, 1, 1], [0, 1, 1, 2, 2, 2, 2, 2], [0, 1, 1, 2, 2, 3, 3, 3], [0, 1, 1, 2, 2, 3, 3, 4]]\n",
      "4\n"
     ]
    }
   ],
   "source": [
    "global a\n",
    "global b\n",
    "a = \"AGGTAB\"\n",
    "b = \"GXTXAYB\"\n",
    "def lcs():\n",
    "    a_len = len(a)\n",
    "    b_len = len(b)\n",
    "    global cache \n",
    "    cache = [[None for _ in range(b_len+1)] for _ in range(a_len+1)]\n",
    "    \n",
    "    for i in range(a_len+1):\n",
    "        for j in range(b_len+1):\n",
    "            if i==0 or j == 0:\n",
    "                cache[i][j] = 0\n",
    "            else:\n",
    "                if a[i-1] == b[j-1]:\n",
    "                    cache[i][j] = cache[i-1][j-1] + 1\n",
    "                else:\n",
    "                    cache[i][j] = max(cache[i-1][j], cache[i][j-1])\n",
    "    print(cache)\n",
    "    return cache[-1][-1]\n",
    "        \n",
    "print(lcs())"
   ]
  },
  {
   "attachments": {
    "image.png": {
     "image/png": "[encoded data removed]"
    }
   },
   "cell_type": "markdown",
   "metadata": {},
   "source": [
    "## Largest Sum Contiguous Subarray\n",
    "Write an efficient C program to find the sum of contiguous subarray within a one-dimensional array of numbers which has the largest sum.\n",
    "![image.png](attachment:image.png)"
   ]
  },
  {
   "cell_type": "markdown",
   "metadata": {},
   "source": [
    "max so far\n",
    "max ending here\n",
    "\n",
    "max so far -----\n",
    "if max ending here < 0:\n",
    "    max ending here = 0\n",
    "else\n",
    "    max ending here += i\n",
    "if max so far < max ending here:\n",
    "    max so far = max ending here"
   ]
  },
  {
   "cell_type": "code",
   "execution_count": 64,
   "metadata": {},
   "outputs": [
    {
     "name": "stdout",
     "output_type": "stream",
     "text": [
      "7\n"
     ]
    }
   ],
   "source": [
    "def max_substring(string):\n",
    "    if not string:\n",
    "        return None\n",
    "    if len(string) == 1:\n",
    "        return string[0]\n",
    "    max_so_far = string[0]\n",
    "    max_ending_here = string[0]\n",
    "    for i in string[1:]:\n",
    "        if max_ending_here + i <= 0:\n",
    "            max_ending_here = 0\n",
    "        else:\n",
    "            max_ending_here += i\n",
    "        if max_ending_here > max_so_far:\n",
    "            max_so_far = max_ending_here\n",
    "    return max_so_far\n",
    "\n",
    "a = [4,-1, -2, 1, 5]\n",
    "print(max_substring(a))"
   ]
  },
  {
   "cell_type": "markdown",
   "metadata": {},
   "source": [
    "## Ugly Numbers\n",
    "Ugly numbers are numbers whose only prime factors are 2, 3 or 5. The sequence 1, 2, 3, 4, 5, 6, 8, 9, 10, 12, 15, … shows the first 11 ugly numbers. By convention, 1 is included.\n",
    "\n",
    "Given a number n, the task is to find n’th Ugly number.\n",
    "\n",
    "Input  : n = 7\n",
    "Output : 8\n",
    "\n",
    "Input  : n = 10\n",
    "Output : 12\n",
    "\n",
    "Input  : n = 15\n",
    "Output : 24\n",
    "\n",
    "Input  : n = 150\n",
    "Output : 5832"
   ]
  },
  {
   "cell_type": "code",
   "execution_count": null,
   "metadata": {
    "collapsed": true
   },
   "outputs": [],
   "source": [
    "#dummy solution: compute all legall \n",
    "def cal(n):\n",
    "    i = 5\n",
    "    p = 5\n",
    "    list = [2, 3, 4, 5]\n",
    "    if n < 5:\n",
    "        return list[n-1]\n",
    "    \n",
    "    while(i < n):\n",
    "        p += 1\n",
    "        if((p / 2) in list):\n",
    "            list.append(p)\n",
    "            i += 1\n",
    "            continue\n",
    "        if((p / 3) in list):\n",
    "            list.append(p)\n",
    "            i += 1\n",
    "            continue\n",
    "            \n",
    "        if((p / 5) in list):\n",
    "            list.append(p)\n",
    "            i += 1 \n",
    "            continue\n",
    "    print(list)\n",
    "    return p\n",
    "\n",
    "print(cal(150))"
   ]
  },
  {
   "cell_type": "markdown",
   "metadata": {},
   "source": [
    "### Method 2 (Use Dynamic Programming)\n",
    "\n",
    "Here is a time efficient solution with O(n) extra space. The ugly-number sequence is 1, 2, 3, 4, 5, 6, 8, 9, 10, 12, 15, …\n",
    "     because every number can only be divided by 2, 3, 5, one way to look at the sequence is to split the sequence to three groups as below:\n",
    "     - 1×2, 2×2, 3×2, 4×2, 5×2, …\n",
    "     - 1×3, 2×3, 3×3, 4×3, 5×3, …\n",
    "     - 1×5, 2×5, 3×5, 4×5, 5×5, …\n",
    "    \n",
    "We can find that every subsequence is the ugly-sequence itself (1, 2, 3, 4, 5, …) multiply 2, 3, 5. Then we use similar merge method as merge sort, to get every ugly number from the three subsequence. Every step we choose the smallest one, and move one step after."
   ]
  },
  {
   "cell_type": "raw",
   "metadata": {},
   "source": [
    "1 Declare an array for ugly numbers:  ugly[n]\n",
    "2 Initialize first ugly no:  ugly[0] = 1\n",
    "3 Initialize three array index variables i2, i3, i5 to point to \n",
    "   1st element of the ugly array: \n",
    "        i2 = i3 = i5 =0; \n",
    "4 Initialize 3 choices for the next ugly no:\n",
    "         next_mulitple_of_2 = ugly[i2]*2;\n",
    "         next_mulitple_of_3 = ugly[i3]*3\n",
    "         next_mulitple_of_5 = ugly[i5]*5;\n",
    "5 Now go in a loop to fill all ugly numbers till 150:\n",
    "For (i = 1; i < 150; i++ ) \n",
    "{\n",
    "    /* These small steps are not optimized for good \n",
    "      readability. Will optimize them in C program */\n",
    "    next_ugly_no  = Min(next_mulitple_of_2,\n",
    "                        next_mulitple_of_3,\n",
    "                        next_mulitple_of_5); \n",
    "    if (next_ugly_no  == next_mulitple_of_2) \n",
    "    {             \n",
    "        i2 = i2 + 1;        \n",
    "        next_mulitple_of_2 = ugly[i2]*2;\n",
    "    } \n",
    "    if (next_ugly_no  == next_mulitple_of_3) \n",
    "    {             \n",
    "        i3 = i3 + 1;        \n",
    "        next_mulitple_of_3 = ugly[i3]*3;\n",
    "     }            \n",
    "     if (next_ugly_no  == next_mulitple_of_5)\n",
    "     {    \n",
    "        i5 = i5 + 1;        \n",
    "        next_mulitple_of_5 = ugly[i5]*5;\n",
    "     } \n",
    "     ugly[i] =  next_ugly_no       \n",
    "}/* end of for loop */ \n",
    "6.return next_ugly_no"
   ]
  },
  {
   "cell_type": "code",
   "execution_count": null,
   "metadata": {
    "collapsed": true
   },
   "outputs": [],
   "source": [
    "#dp\n",
    "def cal(n):\n",
    "    list_2 = [2]\n",
    "    list_3 = [3]\n",
    "    list_5 = [5]\n",
    "    i = 4\n",
    "    for "
   ]
  },
  {
   "attachments": {
    "image.png": {
     "image/png": "[encoded data removed]"
    }
   },
   "cell_type": "markdown",
   "metadata": {},
   "source": [
    "## Maximum size square sub-matrix with all 1s\n",
    "Given a binary matrix, find out the maximum size square sub-matrix with all 1s.\n",
    "\n",
    "For example, consider the below binary matrix.\n",
    "![image.png](attachment:image.png)"
   ]
  },
  {
   "cell_type": "code",
   "execution_count": null,
   "metadata": {
    "collapsed": true
   },
   "outputs": [],
   "source": []
  }
 ],
 "metadata": {
  "kernelspec": {
   "display_name": "Python 3",
   "language": "python",
   "name": "python3"
  },
  "language_info": {
   "codemirror_mode": {
    "name": "ipython",
    "version": 3
   },
   "file_extension": ".py",
   "mimetype": "text/x-python",
   "name": "python",
   "nbconvert_exporter": "python",
   "pygments_lexer": "ipython3",
   "version": "3.6.0"
  }
 },
 "nbformat": 4,
 "nbformat_minor": 2
}
